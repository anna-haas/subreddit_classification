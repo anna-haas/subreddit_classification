{
 "cells": [
  {
   "cell_type": "markdown",
   "metadata": {},
   "source": [
    "# Project 3: Model Preparation"
   ]
  },
  {
   "cell_type": "code",
   "execution_count": 1,
   "metadata": {},
   "outputs": [],
   "source": [
    "import pandas as pd\n",
    "import numpy as np\n",
    "import matplotlib.pyplot as plt\n",
    "import seaborn as sns\n",
    "from sklearn.linear_model import LogisticRegression\n",
    "from sklearn.model_selection import train_test_split, GridSearchCV, cross_val_score\n",
    "from sklearn.feature_extraction.text import CountVectorizer, TfidfVectorizer\n",
    "from sklearn.pipeline import Pipeline\n",
    "from sklearn.preprocessing import StandardScaler"
   ]
  },
  {
   "cell_type": "markdown",
   "metadata": {},
   "source": [
    "### Read in the data"
   ]
  },
  {
   "cell_type": "code",
   "execution_count": 2,
   "metadata": {},
   "outputs": [],
   "source": [
    "df = pd.read_csv('../data/conversations_clean.csv', na_filter = False)"
   ]
  },
  {
   "cell_type": "code",
   "execution_count": 3,
   "metadata": {},
   "outputs": [
    {
     "data": {
      "text/html": [
       "<div>\n",
       "<style scoped>\n",
       "    .dataframe tbody tr th:only-of-type {\n",
       "        vertical-align: middle;\n",
       "    }\n",
       "\n",
       "    .dataframe tbody tr th {\n",
       "        vertical-align: top;\n",
       "    }\n",
       "\n",
       "    .dataframe thead th {\n",
       "        text-align: right;\n",
       "    }\n",
       "</style>\n",
       "<table border=\"1\" class=\"dataframe\">\n",
       "  <thead>\n",
       "    <tr style=\"text-align: right;\">\n",
       "      <th></th>\n",
       "      <th>author</th>\n",
       "      <th>comts_first</th>\n",
       "      <th>comts_num_collected</th>\n",
       "      <th>comts_second</th>\n",
       "      <th>created</th>\n",
       "      <th>edited</th>\n",
       "      <th>name</th>\n",
       "      <th>num_comments</th>\n",
       "      <th>permalink</th>\n",
       "      <th>selftext</th>\n",
       "      <th>subreddit</th>\n",
       "      <th>title</th>\n",
       "      <th>ups</th>\n",
       "      <th>url</th>\n",
       "      <th>text</th>\n",
       "      <th>is_serious</th>\n",
       "    </tr>\n",
       "  </thead>\n",
       "  <tbody>\n",
       "    <tr>\n",
       "      <th>0</th>\n",
       "      <td>FetusGodJim</td>\n",
       "      <td>this made me smile ty for sharing i absolutely...</td>\n",
       "      <td>31</td>\n",
       "      <td>i couldn t find anywhere else to share it and ...</td>\n",
       "      <td>1.554138e+09</td>\n",
       "      <td>False</td>\n",
       "      <td>t3_b8509z</td>\n",
       "      <td>146</td>\n",
       "      <td>/r/CasualConversation/comments/b8509z/man_i_fe...</td>\n",
       "      <td>alright so i recently started working my first...</td>\n",
       "      <td>CasualConversation</td>\n",
       "      <td>man i felt so cool yesterday</td>\n",
       "      <td>4467</td>\n",
       "      <td>https://www.reddit.com/r/CasualConversation/co...</td>\n",
       "      <td>man i felt so cool yesterdayalright so i recen...</td>\n",
       "      <td>0</td>\n",
       "    </tr>\n",
       "    <tr>\n",
       "      <th>1</th>\n",
       "      <td>goat_chortle</td>\n",
       "      <td>that s a tremendous milestone see you next yea...</td>\n",
       "      <td>31</td>\n",
       "      <td>you bet i don t think that will be a problem e...</td>\n",
       "      <td>1.554144e+09</td>\n",
       "      <td>False</td>\n",
       "      <td>t3_b86ngu</td>\n",
       "      <td>84</td>\n",
       "      <td>/r/CasualConversation/comments/b86ngu/yay_me_t...</td>\n",
       "      <td>no it s not an april fool s joke lol i actuall...</td>\n",
       "      <td>CasualConversation</td>\n",
       "      <td>yay me today marks 1yr cigarette free</td>\n",
       "      <td>2083</td>\n",
       "      <td>https://www.reddit.com/r/CasualConversation/co...</td>\n",
       "      <td>yay me today marks 1yr cigarette freeno it s n...</td>\n",
       "      <td>0</td>\n",
       "    </tr>\n",
       "    <tr>\n",
       "      <th>2</th>\n",
       "      <td>IFartedInMyHeart</td>\n",
       "      <td>i think you have no other choice but to make u...</td>\n",
       "      <td>9</td>\n",
       "      <td>great idea</td>\n",
       "      <td>1.554205e+09</td>\n",
       "      <td>False</td>\n",
       "      <td>t3_b8i03a</td>\n",
       "      <td>9</td>\n",
       "      <td>/r/CasualConversation/comments/b8i03a/cat_school/</td>\n",
       "      <td>found out my daughter thinks when the cat goes...</td>\n",
       "      <td>CasualConversation</td>\n",
       "      <td>cat school</td>\n",
       "      <td>34</td>\n",
       "      <td>https://www.reddit.com/r/CasualConversation/co...</td>\n",
       "      <td>cat schoolfound out my daughter thinks when th...</td>\n",
       "      <td>0</td>\n",
       "    </tr>\n",
       "  </tbody>\n",
       "</table>\n",
       "</div>"
      ],
      "text/plain": [
       "             author                                        comts_first  \\\n",
       "0       FetusGodJim  this made me smile ty for sharing i absolutely...   \n",
       "1      goat_chortle  that s a tremendous milestone see you next yea...   \n",
       "2  IFartedInMyHeart  i think you have no other choice but to make u...   \n",
       "\n",
       "   comts_num_collected                                       comts_second  \\\n",
       "0                   31  i couldn t find anywhere else to share it and ...   \n",
       "1                   31  you bet i don t think that will be a problem e...   \n",
       "2                    9                                         great idea   \n",
       "\n",
       "        created edited       name  num_comments  \\\n",
       "0  1.554138e+09  False  t3_b8509z           146   \n",
       "1  1.554144e+09  False  t3_b86ngu            84   \n",
       "2  1.554205e+09  False  t3_b8i03a             9   \n",
       "\n",
       "                                           permalink  \\\n",
       "0  /r/CasualConversation/comments/b8509z/man_i_fe...   \n",
       "1  /r/CasualConversation/comments/b86ngu/yay_me_t...   \n",
       "2  /r/CasualConversation/comments/b8i03a/cat_school/   \n",
       "\n",
       "                                            selftext           subreddit  \\\n",
       "0  alright so i recently started working my first...  CasualConversation   \n",
       "1  no it s not an april fool s joke lol i actuall...  CasualConversation   \n",
       "2  found out my daughter thinks when the cat goes...  CasualConversation   \n",
       "\n",
       "                                   title   ups  \\\n",
       "0           man i felt so cool yesterday  4467   \n",
       "1  yay me today marks 1yr cigarette free  2083   \n",
       "2                             cat school    34   \n",
       "\n",
       "                                                 url  \\\n",
       "0  https://www.reddit.com/r/CasualConversation/co...   \n",
       "1  https://www.reddit.com/r/CasualConversation/co...   \n",
       "2  https://www.reddit.com/r/CasualConversation/co...   \n",
       "\n",
       "                                                text  is_serious  \n",
       "0  man i felt so cool yesterdayalright so i recen...           0  \n",
       "1  yay me today marks 1yr cigarette freeno it s n...           0  \n",
       "2  cat schoolfound out my daughter thinks when th...           0  "
      ]
     },
     "execution_count": 3,
     "metadata": {},
     "output_type": "execute_result"
    }
   ],
   "source": [
    "df.head(3)"
   ]
  },
  {
   "cell_type": "markdown",
   "metadata": {},
   "source": [
    "### Lemmatize Text Column"
   ]
  },
  {
   "cell_type": "code",
   "execution_count": 4,
   "metadata": {},
   "outputs": [],
   "source": [
    "# Function to lemmatize a string\n",
    "from nltk.stem import WordNetLemmatizer\n",
    "\n",
    "def lemmatize_text(raw_text):\n",
    "    \n",
    "    # Split and lemmatize\n",
    "    lem = WordNetLemmatizer()\n",
    "    text_lemmed = [lem.lemmatize(word) for word in raw_text.split()]\n",
    "\n",
    "    # Join back together into a string and return\n",
    "    return(\" \".join(text_lemmed))"
   ]
  },
  {
   "cell_type": "code",
   "execution_count": 5,
   "metadata": {},
   "outputs": [],
   "source": [
    "df['text_lem'] = df['text'].apply(lemmatize_text) "
   ]
  },
  {
   "cell_type": "markdown",
   "metadata": {},
   "source": [
    "### Add Character Count Column"
   ]
  },
  {
   "cell_type": "code",
   "execution_count": 6,
   "metadata": {},
   "outputs": [],
   "source": [
    "# Add new column\n",
    "df['char_count_text'] = df['text'].apply(len)"
   ]
  },
  {
   "cell_type": "code",
   "execution_count": 7,
   "metadata": {},
   "outputs": [
    {
     "data": {
      "text/html": [
       "<div>\n",
       "<style scoped>\n",
       "    .dataframe tbody tr th:only-of-type {\n",
       "        vertical-align: middle;\n",
       "    }\n",
       "\n",
       "    .dataframe tbody tr th {\n",
       "        vertical-align: top;\n",
       "    }\n",
       "\n",
       "    .dataframe thead th {\n",
       "        text-align: right;\n",
       "    }\n",
       "</style>\n",
       "<table border=\"1\" class=\"dataframe\">\n",
       "  <thead>\n",
       "    <tr style=\"text-align: right;\">\n",
       "      <th></th>\n",
       "      <th>char_count_text</th>\n",
       "      <th>text</th>\n",
       "    </tr>\n",
       "  </thead>\n",
       "  <tbody>\n",
       "    <tr>\n",
       "      <th>0</th>\n",
       "      <td>4862</td>\n",
       "      <td>man i felt so cool yesterdayalright so i recen...</td>\n",
       "    </tr>\n",
       "    <tr>\n",
       "      <th>1</th>\n",
       "      <td>6225</td>\n",
       "      <td>yay me today marks 1yr cigarette freeno it s n...</td>\n",
       "    </tr>\n",
       "    <tr>\n",
       "      <th>2</th>\n",
       "      <td>1105</td>\n",
       "      <td>cat schoolfound out my daughter thinks when th...</td>\n",
       "    </tr>\n",
       "    <tr>\n",
       "      <th>3</th>\n",
       "      <td>1425</td>\n",
       "      <td>april fools really bothers me because it prett...</td>\n",
       "    </tr>\n",
       "    <tr>\n",
       "      <th>4</th>\n",
       "      <td>2104</td>\n",
       "      <td>out of all of the madness i cannot believe tha...</td>\n",
       "    </tr>\n",
       "  </tbody>\n",
       "</table>\n",
       "</div>"
      ],
      "text/plain": [
       "   char_count_text                                               text\n",
       "0             4862  man i felt so cool yesterdayalright so i recen...\n",
       "1             6225  yay me today marks 1yr cigarette freeno it s n...\n",
       "2             1105  cat schoolfound out my daughter thinks when th...\n",
       "3             1425  april fools really bothers me because it prett...\n",
       "4             2104  out of all of the madness i cannot believe tha..."
      ]
     },
     "execution_count": 7,
     "metadata": {},
     "output_type": "execute_result"
    }
   ],
   "source": [
    "df[['char_count_text', 'text']].head()"
   ]
  },
  {
   "cell_type": "code",
   "execution_count": 8,
   "metadata": {},
   "outputs": [
    {
     "data": {
      "text/html": [
       "<div>\n",
       "<style scoped>\n",
       "    .dataframe tbody tr th:only-of-type {\n",
       "        vertical-align: middle;\n",
       "    }\n",
       "\n",
       "    .dataframe tbody tr th {\n",
       "        vertical-align: top;\n",
       "    }\n",
       "\n",
       "    .dataframe thead th {\n",
       "        text-align: right;\n",
       "    }\n",
       "</style>\n",
       "<table border=\"1\" class=\"dataframe\">\n",
       "  <thead>\n",
       "    <tr style=\"text-align: right;\">\n",
       "      <th></th>\n",
       "      <th>char_count_text</th>\n",
       "    </tr>\n",
       "    <tr>\n",
       "      <th>is_serious</th>\n",
       "      <th></th>\n",
       "    </tr>\n",
       "  </thead>\n",
       "  <tbody>\n",
       "    <tr>\n",
       "      <th>0</th>\n",
       "      <td>2741.703890</td>\n",
       "    </tr>\n",
       "    <tr>\n",
       "      <th>1</th>\n",
       "      <td>6028.018952</td>\n",
       "    </tr>\n",
       "  </tbody>\n",
       "</table>\n",
       "</div>"
      ],
      "text/plain": [
       "            char_count_text\n",
       "is_serious                 \n",
       "0               2741.703890\n",
       "1               6028.018952"
      ]
     },
     "execution_count": 8,
     "metadata": {},
     "output_type": "execute_result"
    }
   ],
   "source": [
    "df[['char_count_text', 'is_serious']].groupby(by='is_serious').mean()"
   ]
  },
  {
   "cell_type": "code",
   "execution_count": 9,
   "metadata": {},
   "outputs": [
    {
     "data": {
      "text/plain": [
       "char_count_text    0.404315\n",
       "is_serious         1.000000\n",
       "Name: is_serious, dtype: float64"
      ]
     },
     "execution_count": 9,
     "metadata": {},
     "output_type": "execute_result"
    }
   ],
   "source": [
    "# Correlation with target\n",
    "df[['char_count_text', 'is_serious']].corr()['is_serious'].sort_values()"
   ]
  },
  {
   "cell_type": "markdown",
   "metadata": {},
   "source": [
    "Observation: char_count on all the combined text is highly correlated with serious posts\n",
    "- Note: Even though not all comments were collected I had the same max and the same level of comments collected on each post"
   ]
  },
  {
   "cell_type": "markdown",
   "metadata": {},
   "source": [
    "### Add Sentiment Analysis Column"
   ]
  },
  {
   "cell_type": "code",
   "execution_count": 10,
   "metadata": {},
   "outputs": [],
   "source": [
    "from nltk.sentiment.vader import SentimentIntensityAnalyzer\n",
    "import nltk"
   ]
  },
  {
   "cell_type": "code",
   "execution_count": 11,
   "metadata": {},
   "outputs": [],
   "source": [
    "sia = SentimentIntensityAnalyzer()"
   ]
  },
  {
   "cell_type": "code",
   "execution_count": 12,
   "metadata": {},
   "outputs": [],
   "source": [
    "dicts = []\n",
    "\n",
    "for st in df['text']:\n",
    "    scores = sia.polarity_scores(st)  \n",
    "    scores['text'] = st\n",
    "    dicts.append(scores)"
   ]
  },
  {
   "cell_type": "code",
   "execution_count": 13,
   "metadata": {},
   "outputs": [],
   "source": [
    "df_sent = pd.DataFrame(dicts)\n",
    "df_sent['target'] = df['is_serious']"
   ]
  },
  {
   "cell_type": "code",
   "execution_count": 14,
   "metadata": {},
   "outputs": [
    {
     "data": {
      "text/html": [
       "<div>\n",
       "<style scoped>\n",
       "    .dataframe tbody tr th:only-of-type {\n",
       "        vertical-align: middle;\n",
       "    }\n",
       "\n",
       "    .dataframe tbody tr th {\n",
       "        vertical-align: top;\n",
       "    }\n",
       "\n",
       "    .dataframe thead th {\n",
       "        text-align: right;\n",
       "    }\n",
       "</style>\n",
       "<table border=\"1\" class=\"dataframe\">\n",
       "  <thead>\n",
       "    <tr style=\"text-align: right;\">\n",
       "      <th></th>\n",
       "      <th>compound</th>\n",
       "      <th>neg</th>\n",
       "      <th>neu</th>\n",
       "      <th>pos</th>\n",
       "      <th>text</th>\n",
       "      <th>target</th>\n",
       "    </tr>\n",
       "  </thead>\n",
       "  <tbody>\n",
       "    <tr>\n",
       "      <th>0</th>\n",
       "      <td>0.9997</td>\n",
       "      <td>0.066</td>\n",
       "      <td>0.661</td>\n",
       "      <td>0.273</td>\n",
       "      <td>man i felt so cool yesterdayalright so i recen...</td>\n",
       "      <td>0</td>\n",
       "    </tr>\n",
       "    <tr>\n",
       "      <th>1</th>\n",
       "      <td>0.9999</td>\n",
       "      <td>0.057</td>\n",
       "      <td>0.649</td>\n",
       "      <td>0.293</td>\n",
       "      <td>yay me today marks 1yr cigarette freeno it s n...</td>\n",
       "      <td>0</td>\n",
       "    </tr>\n",
       "    <tr>\n",
       "      <th>2</th>\n",
       "      <td>0.9195</td>\n",
       "      <td>0.068</td>\n",
       "      <td>0.820</td>\n",
       "      <td>0.112</td>\n",
       "      <td>cat schoolfound out my daughter thinks when th...</td>\n",
       "      <td>0</td>\n",
       "    </tr>\n",
       "    <tr>\n",
       "      <th>3</th>\n",
       "      <td>-0.9943</td>\n",
       "      <td>0.221</td>\n",
       "      <td>0.709</td>\n",
       "      <td>0.071</td>\n",
       "      <td>april fools really bothers me because it prett...</td>\n",
       "      <td>0</td>\n",
       "    </tr>\n",
       "    <tr>\n",
       "      <th>4</th>\n",
       "      <td>0.9988</td>\n",
       "      <td>0.080</td>\n",
       "      <td>0.636</td>\n",
       "      <td>0.284</td>\n",
       "      <td>out of all of the madness i cannot believe tha...</td>\n",
       "      <td>0</td>\n",
       "    </tr>\n",
       "  </tbody>\n",
       "</table>\n",
       "</div>"
      ],
      "text/plain": [
       "   compound    neg    neu    pos  \\\n",
       "0    0.9997  0.066  0.661  0.273   \n",
       "1    0.9999  0.057  0.649  0.293   \n",
       "2    0.9195  0.068  0.820  0.112   \n",
       "3   -0.9943  0.221  0.709  0.071   \n",
       "4    0.9988  0.080  0.636  0.284   \n",
       "\n",
       "                                                text  target  \n",
       "0  man i felt so cool yesterdayalright so i recen...       0  \n",
       "1  yay me today marks 1yr cigarette freeno it s n...       0  \n",
       "2  cat schoolfound out my daughter thinks when th...       0  \n",
       "3  april fools really bothers me because it prett...       0  \n",
       "4  out of all of the madness i cannot believe tha...       0  "
      ]
     },
     "execution_count": 14,
     "metadata": {},
     "output_type": "execute_result"
    }
   ],
   "source": [
    "df_sent.head()"
   ]
  },
  {
   "cell_type": "code",
   "execution_count": 15,
   "metadata": {},
   "outputs": [
    {
     "data": {
      "text/html": [
       "<div>\n",
       "<style scoped>\n",
       "    .dataframe tbody tr th:only-of-type {\n",
       "        vertical-align: middle;\n",
       "    }\n",
       "\n",
       "    .dataframe tbody tr th {\n",
       "        vertical-align: top;\n",
       "    }\n",
       "\n",
       "    .dataframe thead th {\n",
       "        text-align: right;\n",
       "    }\n",
       "</style>\n",
       "<table border=\"1\" class=\"dataframe\">\n",
       "  <thead>\n",
       "    <tr style=\"text-align: right;\">\n",
       "      <th></th>\n",
       "      <th>compound</th>\n",
       "      <th>neg</th>\n",
       "      <th>neu</th>\n",
       "      <th>pos</th>\n",
       "    </tr>\n",
       "    <tr>\n",
       "      <th>target</th>\n",
       "      <th></th>\n",
       "      <th></th>\n",
       "      <th></th>\n",
       "      <th></th>\n",
       "    </tr>\n",
       "  </thead>\n",
       "  <tbody>\n",
       "    <tr>\n",
       "      <th>0</th>\n",
       "      <td>0.772786</td>\n",
       "      <td>0.074774</td>\n",
       "      <td>0.745668</td>\n",
       "      <td>0.179552</td>\n",
       "    </tr>\n",
       "    <tr>\n",
       "      <th>1</th>\n",
       "      <td>0.390292</td>\n",
       "      <td>0.110882</td>\n",
       "      <td>0.739592</td>\n",
       "      <td>0.149513</td>\n",
       "    </tr>\n",
       "  </tbody>\n",
       "</table>\n",
       "</div>"
      ],
      "text/plain": [
       "        compound       neg       neu       pos\n",
       "target                                        \n",
       "0       0.772786  0.074774  0.745668  0.179552\n",
       "1       0.390292  0.110882  0.739592  0.149513"
      ]
     },
     "execution_count": 15,
     "metadata": {},
     "output_type": "execute_result"
    }
   ],
   "source": [
    "df_sent.groupby(by='target').mean()"
   ]
  },
  {
   "cell_type": "code",
   "execution_count": 16,
   "metadata": {},
   "outputs": [
    {
     "data": {
      "text/plain": [
       "(1694, 18)"
      ]
     },
     "execution_count": 16,
     "metadata": {},
     "output_type": "execute_result"
    }
   ],
   "source": [
    "df.shape"
   ]
  },
  {
   "cell_type": "code",
   "execution_count": 17,
   "metadata": {},
   "outputs": [],
   "source": [
    "# Insert sentiment analysis columns\n",
    "df.insert(0, 'sent_compound', df_sent['compound'])\n",
    "df.insert(1, 'sent_neg', df_sent['neg'])\n",
    "df.insert(2, 'sent_neu', df_sent['neu'])\n",
    "df.insert(3, 'sent_pos', df_sent['pos'])"
   ]
  },
  {
   "cell_type": "code",
   "execution_count": 18,
   "metadata": {},
   "outputs": [
    {
     "data": {
      "text/plain": [
       "(1694, 22)"
      ]
     },
     "execution_count": 18,
     "metadata": {},
     "output_type": "execute_result"
    }
   ],
   "source": [
    "df.shape"
   ]
  },
  {
   "cell_type": "code",
   "execution_count": 19,
   "metadata": {},
   "outputs": [
    {
     "data": {
      "text/plain": [
       "sent_pos        -0.257512\n",
       "sent_compound   -0.253010\n",
       "sent_neu        -0.048992\n",
       "sent_neg         0.371723\n",
       "is_serious       1.000000\n",
       "Name: is_serious, dtype: float64"
      ]
     },
     "execution_count": 19,
     "metadata": {},
     "output_type": "execute_result"
    }
   ],
   "source": [
    "# Correlation with target\n",
    "df[['sent_compound', 'sent_neg', 'sent_neu', 'sent_pos', 'is_serious']].corr()['is_serious'].sort_values()"
   ]
  },
  {
   "cell_type": "code",
   "execution_count": 20,
   "metadata": {},
   "outputs": [
    {
     "data": {
      "image/png": "[encoded data removed]",
      "text/plain": [
       "<Figure size 360x576 with 2 Axes>"
      ]
     },
     "metadata": {
      "needs_background": "light"
     },
     "output_type": "display_data"
    }
   ],
   "source": [
    "plt.figure(figsize=(5,8))\n",
    "sns.heatmap(df[['sent_compound', 'sent_neg', 'sent_neu', 'sent_pos', 'is_serious']].corr()[['is_serious']].sort_values('is_serious', ascending=False),\n",
    "            annot=True, cmap='coolwarm');"
   ]
  },
  {
   "cell_type": "markdown",
   "metadata": {},
   "source": [
    "### Baseline Accuracy"
   ]
  },
  {
   "cell_type": "code",
   "execution_count": 21,
   "metadata": {},
   "outputs": [
    {
     "name": "stdout",
     "output_type": "stream",
     "text": [
      "Baseline Accuracy:  0.5295159386068476\n"
     ]
    }
   ],
   "source": [
    "print('Baseline Accuracy: ', df['is_serious'].value_counts(normalize=True).values[0])"
   ]
  },
  {
   "cell_type": "markdown",
   "metadata": {},
   "source": [
    "### Baseline Model Score - Logistic Regression using Sentiment as Features"
   ]
  },
  {
   "cell_type": "code",
   "execution_count": 22,
   "metadata": {},
   "outputs": [],
   "source": [
    "X = df[['sent_neg', 'sent_pos']]\n",
    "y = df['is_serious']"
   ]
  },
  {
   "cell_type": "code",
   "execution_count": 23,
   "metadata": {},
   "outputs": [],
   "source": [
    "# Train Test Split\n",
    "X_train, X_test, y_train, y_test = train_test_split(X, y, random_state = 42, stratify = y)"
   ]
  },
  {
   "cell_type": "code",
   "execution_count": 24,
   "metadata": {},
   "outputs": [
    {
     "name": "stdout",
     "output_type": "stream",
     "text": [
      "Cross Val Score:  0.6724771813427994\n",
      "Train Score:      0.6787401574803149\n",
      "Test Score:       0.6273584905660378\n"
     ]
    }
   ],
   "source": [
    "lr = LogisticRegression(solver='lbfgs')\n",
    "lr.fit(X_train, y_train)\n",
    "\n",
    "print('Cross Val Score: ', cross_val_score(lr, X_train, y_train, cv=5).mean())\n",
    "print('Train Score:     ', lr.score(X_train, y_train))\n",
    "print('Test Score:      ', lr.score(X_test, y_test))"
   ]
  },
  {
   "cell_type": "markdown",
   "metadata": {},
   "source": [
    "Observation: this is a good improvement from our baseline accuracy score of 0.529\n",
    "- Note: this is only using Logistic Regression...have not yet tried other models"
   ]
  },
  {
   "cell_type": "code",
   "execution_count": 25,
   "metadata": {},
   "outputs": [
    {
     "name": "stdout",
     "output_type": "stream",
     "text": [
      "Improvment: 27.0%\n"
     ]
    }
   ],
   "source": [
    "print(f'Improvment: {round((0.6724771813427994 - 0.5295159386068476) / 0.5295159386068476 * 100, 2)}%')"
   ]
  },
  {
   "cell_type": "code",
   "execution_count": 26,
   "metadata": {},
   "outputs": [
    {
     "name": "stdout",
     "output_type": "stream",
     "text": [
      "A 1 unit increase in sent_neg mean that the post is 611.6244033730949 times as likely to be serious\n",
      "A 1 unit increase in sent_pos mean that the post is 0.017719862995631747 times as likely to be serious\n"
     ]
    }
   ],
   "source": [
    "# Coefficient Interpretation\n",
    "print(f'A 1 unit increase in sent_neg mean that the post is {np.exp(lr.coef_)[0][0]} times as likely to be serious')\n",
    "print(f'A 1 unit increase in sent_pos mean that the post is {np.exp(lr.coef_)[0][1]} times as likely to be serious')"
   ]
  },
  {
   "cell_type": "markdown",
   "metadata": {},
   "source": [
    "### Baseline Model Score - Logistic Regression using Sentiment & Char Count as Features"
   ]
  },
  {
   "cell_type": "code",
   "execution_count": 27,
   "metadata": {},
   "outputs": [],
   "source": [
    "X = df[['sent_neg', 'sent_pos', 'char_count_text']]\n",
    "y = df['is_serious']"
   ]
  },
  {
   "cell_type": "code",
   "execution_count": 28,
   "metadata": {},
   "outputs": [],
   "source": [
    "# Train Test Split\n",
    "X_train, X_test, y_train, y_test = train_test_split(X, y, random_state = 42, stratify = y)"
   ]
  },
  {
   "cell_type": "code",
   "execution_count": 29,
   "metadata": {},
   "outputs": [
    {
     "name": "stdout",
     "output_type": "stream",
     "text": [
      "Cross Val Score:  0.7197807993135943\n",
      "Train Score:      0.7047244094488189\n",
      "Test Score:       0.660377358490566\n"
     ]
    }
   ],
   "source": [
    "lr = LogisticRegression(solver='lbfgs')\n",
    "lr.fit(X_train, y_train)\n",
    "\n",
    "print('Cross Val Score: ', cross_val_score(lr, X_train, y_train, cv=5).mean())\n",
    "print('Train Score:     ', lr.score(X_train, y_train))\n",
    "print('Test Score:      ', lr.score(X_test, y_test))"
   ]
  },
  {
   "cell_type": "code",
   "execution_count": 30,
   "metadata": {},
   "outputs": [
    {
     "name": "stdout",
     "output_type": "stream",
     "text": [
      "Improvment: 35.93%\n"
     ]
    }
   ],
   "source": [
    "print(f'Improvment: {round((0.7197807993135943 - 0.5295159386068476) / 0.5295159386068476 * 100, 2)}%')"
   ]
  },
  {
   "cell_type": "code",
   "execution_count": 31,
   "metadata": {},
   "outputs": [
    {
     "name": "stdout",
     "output_type": "stream",
     "text": [
      "A 1 unit increase in sent_neg mean that the post is 0.984603814937952 times as likely to be serious\n",
      "A 1 unit increase in sent_pos mean that the post is 0.7363699015753495 times as likely to be serious\n",
      "A 1 unit increase in char count means that the post is 1.0003653596575002 times as likely to be serious\n"
     ]
    }
   ],
   "source": [
    "# Coefficient Interpretation\n",
    "print(f'A 1 unit increase in sent_neg mean that the post is {np.exp(lr.coef_)[0][0]} times as likely to be serious')\n",
    "print(f'A 1 unit increase in sent_pos mean that the post is {np.exp(lr.coef_)[0][1]} times as likely to be serious')\n",
    "print(f'A 1 unit increase in char count means that the post is {np.exp(lr.coef_)[0][2]} times as likely to be serious')"
   ]
  },
  {
   "cell_type": "markdown",
   "metadata": {},
   "source": [
    "### Gridsearch with Count Vectorize & Logistic Regression\n",
    "#### To find best parameters for count vectorize"
   ]
  },
  {
   "cell_type": "code",
   "execution_count": 32,
   "metadata": {},
   "outputs": [],
   "source": [
    "X = df['text_lem']\n",
    "y = df['is_serious']"
   ]
  },
  {
   "cell_type": "code",
   "execution_count": 33,
   "metadata": {},
   "outputs": [],
   "source": [
    "# Train Test Split\n",
    "X_train, X_test, y_train, y_test = train_test_split(X, y, random_state = 42, stratify = y)"
   ]
  },
  {
   "cell_type": "code",
   "execution_count": 34,
   "metadata": {},
   "outputs": [],
   "source": [
    "# Create Pipeline\n",
    "\n",
    "# pass in a list of different stages you want in your pipelines. Each stage is a tuple. First item in tuple in the string name\n",
    "pipe = Pipeline([('cvec', CountVectorizer()),\n",
    "                 ('lr', LogisticRegression(solver='liblinear'))])"
   ]
  },
  {
   "cell_type": "code",
   "execution_count": 35,
   "metadata": {},
   "outputs": [
    {
     "name": "stdout",
     "output_type": "stream",
     "text": [
      "Best Score:   0.8433070866141732\n",
      "Best Params:  {'cvec__max_df': 0.7, 'cvec__max_features': None, 'cvec__min_df': 3, 'cvec__stop_words': 'english'}\n"
     ]
    }
   ],
   "source": [
    "params = {\n",
    "    'cvec__stop_words': ['english'],    # name from pipe + '__' (None is the default)\n",
    "    'cvec__max_features' : [None, 3000, 4000],\n",
    "    'cvec__min_df' : [3, 7, 10],\n",
    "    'cvec__max_df' : [0.7, 0.8, 0.9]\n",
    "}\n",
    "gs = GridSearchCV(pipe, param_grid=params, cv=3) # model, params\n",
    "gs.fit(X_train, y_train) # Also does cv in the background\n",
    "\n",
    "print('Best Score:  ', gs.best_score_)\n",
    "print('Best Params: ', gs.best_params_) # cross_val_score (best score from 3 fold cross validation)"
   ]
  },
  {
   "cell_type": "markdown",
   "metadata": {},
   "source": [
    "### Count Vectorize"
   ]
  },
  {
   "cell_type": "code",
   "execution_count": 36,
   "metadata": {},
   "outputs": [],
   "source": [
    "cvec = CountVectorizer(stop_words = 'english', \n",
    "                       max_features = None, \n",
    "                       min_df = 3, \n",
    "                       max_df = 0.7)\n",
    "\n",
    "# Fit Count Vectorizer\n",
    "all_features = cvec.fit_transform(df['text_lem'])\n",
    "\n",
    "# Matrix of words to dataframe\n",
    "df_cv = pd.DataFrame(all_features.toarray(), columns = cvec.get_feature_names())"
   ]
  },
  {
   "cell_type": "code",
   "execution_count": 37,
   "metadata": {},
   "outputs": [],
   "source": [
    "# Insert target sentiment analysis columns\n",
    "df_cv.insert(0, 'is_serious', df['is_serious'])\n",
    "df_cv.insert(1, 'sent_compound', df_sent['compound'])\n",
    "df_cv.insert(2, 'sent_neg', df_sent['neg'])\n",
    "df_cv.insert(3, 'sent_neu', df_sent['neu'])\n",
    "df_cv.insert(4, 'sent_pos', df_sent['pos'])\n",
    "df_cv.insert(5, 'char_count', df['char_count_text'])"
   ]
  },
  {
   "cell_type": "code",
   "execution_count": 38,
   "metadata": {},
   "outputs": [
    {
     "data": {
      "text/html": [
       "<div>\n",
       "<style scoped>\n",
       "    .dataframe tbody tr th:only-of-type {\n",
       "        vertical-align: middle;\n",
       "    }\n",
       "\n",
       "    .dataframe tbody tr th {\n",
       "        vertical-align: top;\n",
       "    }\n",
       "\n",
       "    .dataframe thead th {\n",
       "        text-align: right;\n",
       "    }\n",
       "</style>\n",
       "<table border=\"1\" class=\"dataframe\">\n",
       "  <thead>\n",
       "    <tr style=\"text-align: right;\">\n",
       "      <th></th>\n",
       "      <th>is_serious</th>\n",
       "      <th>sent_compound</th>\n",
       "      <th>sent_neg</th>\n",
       "      <th>sent_neu</th>\n",
       "      <th>sent_pos</th>\n",
       "      <th>char_count</th>\n",
       "      <th>00</th>\n",
       "      <th>000</th>\n",
       "      <th>001</th>\n",
       "      <th>00pm</th>\n",
       "      <th>...</th>\n",
       "      <th>zealand</th>\n",
       "      <th>zen</th>\n",
       "      <th>zeppelin</th>\n",
       "      <th>zero</th>\n",
       "      <th>zip</th>\n",
       "      <th>zoloft</th>\n",
       "      <th>zombie</th>\n",
       "      <th>zone</th>\n",
       "      <th>zoned</th>\n",
       "      <th>zoo</th>\n",
       "    </tr>\n",
       "  </thead>\n",
       "  <tbody>\n",
       "    <tr>\n",
       "      <th>0</th>\n",
       "      <td>0</td>\n",
       "      <td>0.9997</td>\n",
       "      <td>0.066</td>\n",
       "      <td>0.661</td>\n",
       "      <td>0.273</td>\n",
       "      <td>4862</td>\n",
       "      <td>0</td>\n",
       "      <td>0</td>\n",
       "      <td>0</td>\n",
       "      <td>0</td>\n",
       "      <td>...</td>\n",
       "      <td>0</td>\n",
       "      <td>0</td>\n",
       "      <td>0</td>\n",
       "      <td>0</td>\n",
       "      <td>0</td>\n",
       "      <td>0</td>\n",
       "      <td>0</td>\n",
       "      <td>0</td>\n",
       "      <td>0</td>\n",
       "      <td>0</td>\n",
       "    </tr>\n",
       "    <tr>\n",
       "      <th>1</th>\n",
       "      <td>0</td>\n",
       "      <td>0.9999</td>\n",
       "      <td>0.057</td>\n",
       "      <td>0.649</td>\n",
       "      <td>0.293</td>\n",
       "      <td>6225</td>\n",
       "      <td>0</td>\n",
       "      <td>0</td>\n",
       "      <td>0</td>\n",
       "      <td>0</td>\n",
       "      <td>...</td>\n",
       "      <td>0</td>\n",
       "      <td>0</td>\n",
       "      <td>0</td>\n",
       "      <td>0</td>\n",
       "      <td>0</td>\n",
       "      <td>0</td>\n",
       "      <td>0</td>\n",
       "      <td>0</td>\n",
       "      <td>0</td>\n",
       "      <td>0</td>\n",
       "    </tr>\n",
       "    <tr>\n",
       "      <th>2</th>\n",
       "      <td>0</td>\n",
       "      <td>0.9195</td>\n",
       "      <td>0.068</td>\n",
       "      <td>0.820</td>\n",
       "      <td>0.112</td>\n",
       "      <td>1105</td>\n",
       "      <td>0</td>\n",
       "      <td>0</td>\n",
       "      <td>0</td>\n",
       "      <td>0</td>\n",
       "      <td>...</td>\n",
       "      <td>0</td>\n",
       "      <td>0</td>\n",
       "      <td>0</td>\n",
       "      <td>0</td>\n",
       "      <td>0</td>\n",
       "      <td>0</td>\n",
       "      <td>0</td>\n",
       "      <td>0</td>\n",
       "      <td>0</td>\n",
       "      <td>0</td>\n",
       "    </tr>\n",
       "    <tr>\n",
       "      <th>3</th>\n",
       "      <td>0</td>\n",
       "      <td>-0.9943</td>\n",
       "      <td>0.221</td>\n",
       "      <td>0.709</td>\n",
       "      <td>0.071</td>\n",
       "      <td>1425</td>\n",
       "      <td>0</td>\n",
       "      <td>0</td>\n",
       "      <td>0</td>\n",
       "      <td>0</td>\n",
       "      <td>...</td>\n",
       "      <td>0</td>\n",
       "      <td>0</td>\n",
       "      <td>0</td>\n",
       "      <td>0</td>\n",
       "      <td>0</td>\n",
       "      <td>0</td>\n",
       "      <td>0</td>\n",
       "      <td>1</td>\n",
       "      <td>0</td>\n",
       "      <td>0</td>\n",
       "    </tr>\n",
       "    <tr>\n",
       "      <th>4</th>\n",
       "      <td>0</td>\n",
       "      <td>0.9988</td>\n",
       "      <td>0.080</td>\n",
       "      <td>0.636</td>\n",
       "      <td>0.284</td>\n",
       "      <td>2104</td>\n",
       "      <td>0</td>\n",
       "      <td>0</td>\n",
       "      <td>0</td>\n",
       "      <td>0</td>\n",
       "      <td>...</td>\n",
       "      <td>0</td>\n",
       "      <td>0</td>\n",
       "      <td>0</td>\n",
       "      <td>0</td>\n",
       "      <td>0</td>\n",
       "      <td>0</td>\n",
       "      <td>0</td>\n",
       "      <td>0</td>\n",
       "      <td>0</td>\n",
       "      <td>0</td>\n",
       "    </tr>\n",
       "  </tbody>\n",
       "</table>\n",
       "<p>5 rows × 11251 columns</p>\n",
       "</div>"
      ],
      "text/plain": [
       "   is_serious  sent_compound  sent_neg  sent_neu  sent_pos  char_count  00  \\\n",
       "0           0         0.9997     0.066     0.661     0.273        4862   0   \n",
       "1           0         0.9999     0.057     0.649     0.293        6225   0   \n",
       "2           0         0.9195     0.068     0.820     0.112        1105   0   \n",
       "3           0        -0.9943     0.221     0.709     0.071        1425   0   \n",
       "4           0         0.9988     0.080     0.636     0.284        2104   0   \n",
       "\n",
       "   000  001  00pm  ...  zealand  zen  zeppelin  zero  zip  zoloft  zombie  \\\n",
       "0    0    0     0  ...        0    0         0     0    0       0       0   \n",
       "1    0    0     0  ...        0    0         0     0    0       0       0   \n",
       "2    0    0     0  ...        0    0         0     0    0       0       0   \n",
       "3    0    0     0  ...        0    0         0     0    0       0       0   \n",
       "4    0    0     0  ...        0    0         0     0    0       0       0   \n",
       "\n",
       "   zone  zoned  zoo  \n",
       "0     0      0    0  \n",
       "1     0      0    0  \n",
       "2     0      0    0  \n",
       "3     1      0    0  \n",
       "4     0      0    0  \n",
       "\n",
       "[5 rows x 11251 columns]"
      ]
     },
     "execution_count": 38,
     "metadata": {},
     "output_type": "execute_result"
    }
   ],
   "source": [
    "df_cv.head()"
   ]
  },
  {
   "cell_type": "code",
   "execution_count": 39,
   "metadata": {},
   "outputs": [],
   "source": [
    "## Save to CSV\n",
    "df_cv.to_csv('../data/count_vec.csv', index = False)"
   ]
  },
  {
   "cell_type": "markdown",
   "metadata": {},
   "source": [
    "### Gridsearch with TF-IDF & Logistic Regression\n",
    "#### To find best parameters for TF-IDF"
   ]
  },
  {
   "cell_type": "code",
   "execution_count": 40,
   "metadata": {},
   "outputs": [],
   "source": [
    "X = df['text_lem']\n",
    "y = df['is_serious']"
   ]
  },
  {
   "cell_type": "code",
   "execution_count": 41,
   "metadata": {},
   "outputs": [],
   "source": [
    "# Train Test Split\n",
    "X_train, X_test, y_train, y_test = train_test_split(X, y, random_state = 42, stratify = y)"
   ]
  },
  {
   "cell_type": "code",
   "execution_count": 42,
   "metadata": {},
   "outputs": [],
   "source": [
    "# Create Pipeline\n",
    "\n",
    "# pass in a list of different stages you want in your pipelines. Each stage is a tuple. First item in tuple in the string name\n",
    "pipe = Pipeline([('tfidf', TfidfVectorizer()),\n",
    "                 ('lr', LogisticRegression(solver='liblinear'))])"
   ]
  },
  {
   "cell_type": "code",
   "execution_count": 43,
   "metadata": {},
   "outputs": [
    {
     "name": "stdout",
     "output_type": "stream",
     "text": [
      "Best Score:   0.8519685039370078\n",
      "Best Params:  {'tfidf__max_df': 0.7, 'tfidf__min_df': 5, 'tfidf__stop_words': 'english'}\n"
     ]
    }
   ],
   "source": [
    "params = {\n",
    "    'tfidf__stop_words': ['english'],    # name from pipe + '__' (None is the default)\n",
    "    'tfidf__min_df' : [0, 5, 10],\n",
    "    'tfidf__max_df' : [0.7, 0.8, 0.9, 1.0]\n",
    "}\n",
    "gs = GridSearchCV(pipe, param_grid=params, cv=3) # model, params\n",
    "gs.fit(X_train, y_train) # Also does cv in the background\n",
    "\n",
    "print('Best Score:  ', gs.best_score_)\n",
    "print('Best Params: ', gs.best_params_) # cross_val_score (best score from 3 fold cross validation)"
   ]
  },
  {
   "cell_type": "markdown",
   "metadata": {},
   "source": [
    "### TF-IDF"
   ]
  },
  {
   "cell_type": "code",
   "execution_count": 44,
   "metadata": {},
   "outputs": [],
   "source": [
    "tfidf = TfidfVectorizer(stop_words = 'english', \n",
    "                        #max_features = 4000, \n",
    "                        min_df = 5, \n",
    "                        max_df = 0.7)\n",
    "\n",
    "# Fit TF-IDF\n",
    "tfidif_terms = tfidf.fit_transform(df['text_lem'])\n",
    "\n",
    "df_tfidif = pd.DataFrame(tfidif_terms.toarray(), columns=tfidf.get_feature_names())"
   ]
  },
  {
   "cell_type": "code",
   "execution_count": 45,
   "metadata": {},
   "outputs": [
    {
     "data": {
      "text/plain": [
       "(1694, 7920)"
      ]
     },
     "execution_count": 45,
     "metadata": {},
     "output_type": "execute_result"
    }
   ],
   "source": [
    "df_tfidif.shape"
   ]
  },
  {
   "cell_type": "code",
   "execution_count": 46,
   "metadata": {},
   "outputs": [],
   "source": [
    "# Insert target sentiment analysis columns\n",
    "df_tfidif.insert(0, 'is_serious', df['is_serious'])\n",
    "df_tfidif.insert(1, 'sent_compound', df_sent['compound'])\n",
    "df_tfidif.insert(2, 'sent_neg', df_sent['neg'])\n",
    "df_tfidif.insert(3, 'sent_neu', df_sent['neu'])\n",
    "df_tfidif.insert(4, 'sent_pos', df_sent['pos'])\n",
    "df_tfidif.insert(5, 'char_count', df['char_count_text'])"
   ]
  },
  {
   "cell_type": "code",
   "execution_count": 47,
   "metadata": {},
   "outputs": [
    {
     "data": {
      "text/html": [
       "<div>\n",
       "<style scoped>\n",
       "    .dataframe tbody tr th:only-of-type {\n",
       "        vertical-align: middle;\n",
       "    }\n",
       "\n",
       "    .dataframe tbody tr th {\n",
       "        vertical-align: top;\n",
       "    }\n",
       "\n",
       "    .dataframe thead th {\n",
       "        text-align: right;\n",
       "    }\n",
       "</style>\n",
       "<table border=\"1\" class=\"dataframe\">\n",
       "  <thead>\n",
       "    <tr style=\"text-align: right;\">\n",
       "      <th></th>\n",
       "      <th>is_serious</th>\n",
       "      <th>sent_compound</th>\n",
       "      <th>sent_neg</th>\n",
       "      <th>sent_neu</th>\n",
       "      <th>sent_pos</th>\n",
       "      <th>char_count</th>\n",
       "      <th>00</th>\n",
       "      <th>000</th>\n",
       "      <th>01</th>\n",
       "      <th>02</th>\n",
       "      <th>...</th>\n",
       "      <th>yr</th>\n",
       "      <th>yt</th>\n",
       "      <th>yummy</th>\n",
       "      <th>yup</th>\n",
       "      <th>zealand</th>\n",
       "      <th>zero</th>\n",
       "      <th>zip</th>\n",
       "      <th>zombie</th>\n",
       "      <th>zone</th>\n",
       "      <th>zoo</th>\n",
       "    </tr>\n",
       "  </thead>\n",
       "  <tbody>\n",
       "    <tr>\n",
       "      <th>0</th>\n",
       "      <td>0</td>\n",
       "      <td>0.9997</td>\n",
       "      <td>0.066</td>\n",
       "      <td>0.661</td>\n",
       "      <td>0.273</td>\n",
       "      <td>4862</td>\n",
       "      <td>0.0</td>\n",
       "      <td>0.0</td>\n",
       "      <td>0.0</td>\n",
       "      <td>0.0</td>\n",
       "      <td>...</td>\n",
       "      <td>0.0</td>\n",
       "      <td>0.0</td>\n",
       "      <td>0.0</td>\n",
       "      <td>0.0</td>\n",
       "      <td>0.0</td>\n",
       "      <td>0.0</td>\n",
       "      <td>0.0</td>\n",
       "      <td>0.0</td>\n",
       "      <td>0.000000</td>\n",
       "      <td>0.0</td>\n",
       "    </tr>\n",
       "    <tr>\n",
       "      <th>1</th>\n",
       "      <td>0</td>\n",
       "      <td>0.9999</td>\n",
       "      <td>0.057</td>\n",
       "      <td>0.649</td>\n",
       "      <td>0.293</td>\n",
       "      <td>6225</td>\n",
       "      <td>0.0</td>\n",
       "      <td>0.0</td>\n",
       "      <td>0.0</td>\n",
       "      <td>0.0</td>\n",
       "      <td>...</td>\n",
       "      <td>0.0</td>\n",
       "      <td>0.0</td>\n",
       "      <td>0.0</td>\n",
       "      <td>0.0</td>\n",
       "      <td>0.0</td>\n",
       "      <td>0.0</td>\n",
       "      <td>0.0</td>\n",
       "      <td>0.0</td>\n",
       "      <td>0.000000</td>\n",
       "      <td>0.0</td>\n",
       "    </tr>\n",
       "    <tr>\n",
       "      <th>2</th>\n",
       "      <td>0</td>\n",
       "      <td>0.9195</td>\n",
       "      <td>0.068</td>\n",
       "      <td>0.820</td>\n",
       "      <td>0.112</td>\n",
       "      <td>1105</td>\n",
       "      <td>0.0</td>\n",
       "      <td>0.0</td>\n",
       "      <td>0.0</td>\n",
       "      <td>0.0</td>\n",
       "      <td>...</td>\n",
       "      <td>0.0</td>\n",
       "      <td>0.0</td>\n",
       "      <td>0.0</td>\n",
       "      <td>0.0</td>\n",
       "      <td>0.0</td>\n",
       "      <td>0.0</td>\n",
       "      <td>0.0</td>\n",
       "      <td>0.0</td>\n",
       "      <td>0.000000</td>\n",
       "      <td>0.0</td>\n",
       "    </tr>\n",
       "    <tr>\n",
       "      <th>3</th>\n",
       "      <td>0</td>\n",
       "      <td>-0.9943</td>\n",
       "      <td>0.221</td>\n",
       "      <td>0.709</td>\n",
       "      <td>0.071</td>\n",
       "      <td>1425</td>\n",
       "      <td>0.0</td>\n",
       "      <td>0.0</td>\n",
       "      <td>0.0</td>\n",
       "      <td>0.0</td>\n",
       "      <td>...</td>\n",
       "      <td>0.0</td>\n",
       "      <td>0.0</td>\n",
       "      <td>0.0</td>\n",
       "      <td>0.0</td>\n",
       "      <td>0.0</td>\n",
       "      <td>0.0</td>\n",
       "      <td>0.0</td>\n",
       "      <td>0.0</td>\n",
       "      <td>0.085366</td>\n",
       "      <td>0.0</td>\n",
       "    </tr>\n",
       "    <tr>\n",
       "      <th>4</th>\n",
       "      <td>0</td>\n",
       "      <td>0.9988</td>\n",
       "      <td>0.080</td>\n",
       "      <td>0.636</td>\n",
       "      <td>0.284</td>\n",
       "      <td>2104</td>\n",
       "      <td>0.0</td>\n",
       "      <td>0.0</td>\n",
       "      <td>0.0</td>\n",
       "      <td>0.0</td>\n",
       "      <td>...</td>\n",
       "      <td>0.0</td>\n",
       "      <td>0.0</td>\n",
       "      <td>0.0</td>\n",
       "      <td>0.0</td>\n",
       "      <td>0.0</td>\n",
       "      <td>0.0</td>\n",
       "      <td>0.0</td>\n",
       "      <td>0.0</td>\n",
       "      <td>0.000000</td>\n",
       "      <td>0.0</td>\n",
       "    </tr>\n",
       "  </tbody>\n",
       "</table>\n",
       "<p>5 rows × 7926 columns</p>\n",
       "</div>"
      ],
      "text/plain": [
       "   is_serious  sent_compound  sent_neg  sent_neu  sent_pos  char_count   00  \\\n",
       "0           0         0.9997     0.066     0.661     0.273        4862  0.0   \n",
       "1           0         0.9999     0.057     0.649     0.293        6225  0.0   \n",
       "2           0         0.9195     0.068     0.820     0.112        1105  0.0   \n",
       "3           0        -0.9943     0.221     0.709     0.071        1425  0.0   \n",
       "4           0         0.9988     0.080     0.636     0.284        2104  0.0   \n",
       "\n",
       "   000   01   02  ...   yr   yt  yummy  yup  zealand  zero  zip  zombie  \\\n",
       "0  0.0  0.0  0.0  ...  0.0  0.0    0.0  0.0      0.0   0.0  0.0     0.0   \n",
       "1  0.0  0.0  0.0  ...  0.0  0.0    0.0  0.0      0.0   0.0  0.0     0.0   \n",
       "2  0.0  0.0  0.0  ...  0.0  0.0    0.0  0.0      0.0   0.0  0.0     0.0   \n",
       "3  0.0  0.0  0.0  ...  0.0  0.0    0.0  0.0      0.0   0.0  0.0     0.0   \n",
       "4  0.0  0.0  0.0  ...  0.0  0.0    0.0  0.0      0.0   0.0  0.0     0.0   \n",
       "\n",
       "       zone  zoo  \n",
       "0  0.000000  0.0  \n",
       "1  0.000000  0.0  \n",
       "2  0.000000  0.0  \n",
       "3  0.085366  0.0  \n",
       "4  0.000000  0.0  \n",
       "\n",
       "[5 rows x 7926 columns]"
      ]
     },
     "execution_count": 47,
     "metadata": {},
     "output_type": "execute_result"
    }
   ],
   "source": [
    "df_tfidif.head()"
   ]
  },
  {
   "cell_type": "code",
   "execution_count": 48,
   "metadata": {},
   "outputs": [],
   "source": [
    "## Save to CSV\n",
    "df_tfidif.to_csv('../data/tfidf.csv', index = False)"
   ]
  }
 ],
 "metadata": {
  "kernelspec": {
   "display_name": "Python 3",
   "language": "python",
   "name": "python3"
  },
  "language_info": {
   "codemirror_mode": {
    "name": "ipython",
    "version": 3
   },
   "file_extension": ".py",
   "mimetype": "text/x-python",
   "name": "python",
   "nbconvert_exporter": "python",
   "pygments_lexer": "ipython3",
   "version": "3.6.8"
  }
 },
 "nbformat": 4,
 "nbformat_minor": 2
}

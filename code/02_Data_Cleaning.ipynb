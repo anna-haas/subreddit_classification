{
 "cells": [
  {
   "cell_type": "markdown",
   "metadata": {},
   "source": [
    "# Subreddit Classification: Data Cleaning"
   ]
  },
  {
   "cell_type": "code",
   "execution_count": 2,
   "metadata": {},
   "outputs": [],
   "source": [
    "# Imports\n",
    "import pandas as pd"
   ]
  },
  {
   "cell_type": "code",
   "execution_count": 3,
   "metadata": {},
   "outputs": [],
   "source": [
    "# Read in data\n",
    "df = pd.read_csv('../data/conversations.csv')"
   ]
  },
  {
   "cell_type": "code",
   "execution_count": 4,
   "metadata": {},
   "outputs": [
    {
     "data": {
      "text/html": [
       "<div>\n",
       "<style scoped>\n",
       "    .dataframe tbody tr th:only-of-type {\n",
       "        vertical-align: middle;\n",
       "    }\n",
       "\n",
       "    .dataframe tbody tr th {\n",
       "        vertical-align: top;\n",
       "    }\n",
       "\n",
       "    .dataframe thead th {\n",
       "        text-align: right;\n",
       "    }\n",
       "</style>\n",
       "<table border=\"1\" class=\"dataframe\">\n",
       "  <thead>\n",
       "    <tr style=\"text-align: right;\">\n",
       "      <th></th>\n",
       "      <th>author</th>\n",
       "      <th>comts_first</th>\n",
       "      <th>comts_num_collected</th>\n",
       "      <th>comts_second</th>\n",
       "      <th>created</th>\n",
       "      <th>domain</th>\n",
       "      <th>edited</th>\n",
       "      <th>is_original_content</th>\n",
       "      <th>is_video</th>\n",
       "      <th>media_only</th>\n",
       "      <th>name</th>\n",
       "      <th>num_comments</th>\n",
       "      <th>permalink</th>\n",
       "      <th>selftext</th>\n",
       "      <th>subreddit</th>\n",
       "      <th>title</th>\n",
       "      <th>ups</th>\n",
       "      <th>url</th>\n",
       "    </tr>\n",
       "  </thead>\n",
       "  <tbody>\n",
       "    <tr>\n",
       "      <th>0</th>\n",
       "      <td>tizorres</td>\n",
       "      <td>['It helps if you make it a clickable link...\\...</td>\n",
       "      <td>7</td>\n",
       "      <td>[\"It is clickable... it's a link post.\", 'Agre...</td>\n",
       "      <td>1.552082e+09</td>\n",
       "      <td>reddit.com</td>\n",
       "      <td>False</td>\n",
       "      <td>False</td>\n",
       "      <td>False</td>\n",
       "      <td>False</td>\n",
       "      <td>t3_ayvu98</td>\n",
       "      <td>12</td>\n",
       "      <td>/r/CasualConversation/comments/ayvu98/looking_...</td>\n",
       "      <td>NaN</td>\n",
       "      <td>CasualConversation</td>\n",
       "      <td>Looking for more in-depth discussion on heavie...</td>\n",
       "      <td>57</td>\n",
       "      <td>https://www.reddit.com/r/SeriousConversation</td>\n",
       "    </tr>\n",
       "    <tr>\n",
       "      <th>1</th>\n",
       "      <td>MajorParadox</td>\n",
       "      <td>[\"&amp;gt;We applied to become mods with the sole ...</td>\n",
       "      <td>31</td>\n",
       "      <td>[\"[Shh, you didn't see anything...](https://me...</td>\n",
       "      <td>1.554085e+09</td>\n",
       "      <td>self.CasualConversation</td>\n",
       "      <td>1554085026.0</td>\n",
       "      <td>False</td>\n",
       "      <td>False</td>\n",
       "      <td>False</td>\n",
       "      <td>t3_b7w0dc</td>\n",
       "      <td>100</td>\n",
       "      <td>/r/CasualConversation/comments/b7w0dc/introduc...</td>\n",
       "      <td>Oh, hello.  I'm one of the new mods of r/Casua...</td>\n",
       "      <td>CasualConversation</td>\n",
       "      <td>Introducing: The New Mods of r/CasualConversat...</td>\n",
       "      <td>15</td>\n",
       "      <td>https://www.reddit.com/r/CasualConversation/co...</td>\n",
       "    </tr>\n",
       "    <tr>\n",
       "      <th>2</th>\n",
       "      <td>FetusGodJim</td>\n",
       "      <td>['This made me smile ty for sharing ', \"I abso...</td>\n",
       "      <td>31</td>\n",
       "      <td>['I couldn’t find anywhere else to share it, a...</td>\n",
       "      <td>1.554138e+09</td>\n",
       "      <td>self.CasualConversation</td>\n",
       "      <td>False</td>\n",
       "      <td>False</td>\n",
       "      <td>False</td>\n",
       "      <td>False</td>\n",
       "      <td>t3_b8509z</td>\n",
       "      <td>146</td>\n",
       "      <td>/r/CasualConversation/comments/b8509z/man_i_fe...</td>\n",
       "      <td>Alright, so I recently started working my firs...</td>\n",
       "      <td>CasualConversation</td>\n",
       "      <td>Man, I felt so cool yesterday.</td>\n",
       "      <td>4467</td>\n",
       "      <td>https://www.reddit.com/r/CasualConversation/co...</td>\n",
       "    </tr>\n",
       "  </tbody>\n",
       "</table>\n",
       "</div>"
      ],
      "text/plain": [
       "         author                                        comts_first  \\\n",
       "0      tizorres  ['It helps if you make it a clickable link...\\...   \n",
       "1  MajorParadox  [\"&gt;We applied to become mods with the sole ...   \n",
       "2   FetusGodJim  ['This made me smile ty for sharing ', \"I abso...   \n",
       "\n",
       "   comts_num_collected                                       comts_second  \\\n",
       "0                    7  [\"It is clickable... it's a link post.\", 'Agre...   \n",
       "1                   31  [\"[Shh, you didn't see anything...](https://me...   \n",
       "2                   31  ['I couldn’t find anywhere else to share it, a...   \n",
       "\n",
       "        created                   domain        edited  is_original_content  \\\n",
       "0  1.552082e+09               reddit.com         False                False   \n",
       "1  1.554085e+09  self.CasualConversation  1554085026.0                False   \n",
       "2  1.554138e+09  self.CasualConversation         False                False   \n",
       "\n",
       "   is_video  media_only       name  num_comments  \\\n",
       "0     False       False  t3_ayvu98            12   \n",
       "1     False       False  t3_b7w0dc           100   \n",
       "2     False       False  t3_b8509z           146   \n",
       "\n",
       "                                           permalink  \\\n",
       "0  /r/CasualConversation/comments/ayvu98/looking_...   \n",
       "1  /r/CasualConversation/comments/b7w0dc/introduc...   \n",
       "2  /r/CasualConversation/comments/b8509z/man_i_fe...   \n",
       "\n",
       "                                            selftext           subreddit  \\\n",
       "0                                                NaN  CasualConversation   \n",
       "1  Oh, hello.  I'm one of the new mods of r/Casua...  CasualConversation   \n",
       "2  Alright, so I recently started working my firs...  CasualConversation   \n",
       "\n",
       "                                               title   ups  \\\n",
       "0  Looking for more in-depth discussion on heavie...    57   \n",
       "1  Introducing: The New Mods of r/CasualConversat...    15   \n",
       "2                     Man, I felt so cool yesterday.  4467   \n",
       "\n",
       "                                                 url  \n",
       "0       https://www.reddit.com/r/SeriousConversation  \n",
       "1  https://www.reddit.com/r/CasualConversation/co...  \n",
       "2  https://www.reddit.com/r/CasualConversation/co...  "
      ]
     },
     "execution_count": 4,
     "metadata": {},
     "output_type": "execute_result"
    }
   ],
   "source": [
    "df.head(3)"
   ]
  },
  {
   "cell_type": "code",
   "execution_count": 5,
   "metadata": {},
   "outputs": [
    {
     "data": {
      "text/plain": [
       "(1729, 18)"
      ]
     },
     "execution_count": 5,
     "metadata": {},
     "output_type": "execute_result"
    }
   ],
   "source": [
    "df.shape"
   ]
  },
  {
   "cell_type": "code",
   "execution_count": 6,
   "metadata": {},
   "outputs": [
    {
     "name": "stdout",
     "output_type": "stream",
     "text": [
      "<class 'pandas.core.frame.DataFrame'>\n",
      "RangeIndex: 1729 entries, 0 to 1728\n",
      "Data columns (total 18 columns):\n",
      "author                 1729 non-null object\n",
      "comts_first            1729 non-null object\n",
      "comts_num_collected    1729 non-null int64\n",
      "comts_second           1729 non-null object\n",
      "created                1729 non-null float64\n",
      "domain                 1729 non-null object\n",
      "edited                 1729 non-null object\n",
      "is_original_content    1729 non-null bool\n",
      "is_video               1729 non-null bool\n",
      "media_only             1729 non-null bool\n",
      "name                   1729 non-null object\n",
      "num_comments           1729 non-null int64\n",
      "permalink              1729 non-null object\n",
      "selftext               1726 non-null object\n",
      "subreddit              1729 non-null object\n",
      "title                  1729 non-null object\n",
      "ups                    1729 non-null int64\n",
      "url                    1729 non-null object\n",
      "dtypes: bool(3), float64(1), int64(3), object(11)\n",
      "memory usage: 207.8+ KB\n"
     ]
    }
   ],
   "source": [
    "# df.info()\n",
    "df.info()"
   ]
  },
  {
   "cell_type": "code",
   "execution_count": 7,
   "metadata": {},
   "outputs": [
    {
     "data": {
      "text/plain": [
       "str"
      ]
     },
     "execution_count": 7,
     "metadata": {},
     "output_type": "execute_result"
    }
   ],
   "source": [
    "type(df['comts_first'][0])"
   ]
  },
  {
   "cell_type": "code",
   "execution_count": 9,
   "metadata": {},
   "outputs": [
    {
     "name": "stdout",
     "output_type": "stream",
     "text": [
      "Number of April Fools Titles:  10\n"
     ]
    }
   ],
   "source": [
    "april = []\n",
    "for i, title in enumerate(df['title']):\n",
    "    if 'april fool' in title.lower():\n",
    "        april.append(i)\n",
    "print('Number of April Fools Titles: ', len(april))"
   ]
  },
  {
   "cell_type": "code",
   "execution_count": 10,
   "metadata": {},
   "outputs": [
    {
     "name": "stdout",
     "output_type": "stream",
     "text": [
      "April fools really bothers me because it pretty much lasts for two days if you’re in Australia\n",
      "My friend and I may have pulled off our best April Fools prank yet.\n",
      "Reddit is basically immune to April Fools Day\n",
      "April Fool's Youtube is terrible\n",
      "I've just ordered about £30 of Indian food for a friend as an April Fools Joke; what wholesome prank ideas have you done?\n",
      "oday i got fired ON April fools day, I just hope my boss tells me it was a joke tomorrow.\n",
      "Dad just got me with a good April fools joke.\n",
      "I think April Fools Day should be changed to Rick Astley Day! Who’s with me?\n",
      "Is anybody else super excited for Reddit on April fool's day? With things like Place and the button bringing back fond memories, I'm excited to see what happens this year!\n",
      "Need ideas - taking twin sister to the school I work at for April Fool's.\n"
     ]
    }
   ],
   "source": [
    "for i in april:\n",
    "    print(df.iloc[i]['title'])"
   ]
  },
  {
   "cell_type": "markdown",
   "metadata": {},
   "source": [
    "### Investigating Nulls"
   ]
  },
  {
   "cell_type": "code",
   "execution_count": 7,
   "metadata": {},
   "outputs": [
    {
     "data": {
      "text/plain": [
       "selftext    3\n",
       "dtype: int64"
      ]
     },
     "execution_count": 7,
     "metadata": {},
     "output_type": "execute_result"
    }
   ],
   "source": [
    "# How to deal with nulls\n",
    "df.isnull().sum()[df.isnull().sum() != 0]"
   ]
  },
  {
   "cell_type": "code",
   "execution_count": 8,
   "metadata": {},
   "outputs": [
    {
     "data": {
      "text/html": [
       "<div>\n",
       "<style scoped>\n",
       "    .dataframe tbody tr th:only-of-type {\n",
       "        vertical-align: middle;\n",
       "    }\n",
       "\n",
       "    .dataframe tbody tr th {\n",
       "        vertical-align: top;\n",
       "    }\n",
       "\n",
       "    .dataframe thead th {\n",
       "        text-align: right;\n",
       "    }\n",
       "</style>\n",
       "<table border=\"1\" class=\"dataframe\">\n",
       "  <thead>\n",
       "    <tr style=\"text-align: right;\">\n",
       "      <th></th>\n",
       "      <th>author</th>\n",
       "      <th>comts_first</th>\n",
       "      <th>comts_num_collected</th>\n",
       "      <th>comts_second</th>\n",
       "      <th>created</th>\n",
       "      <th>domain</th>\n",
       "      <th>edited</th>\n",
       "      <th>is_original_content</th>\n",
       "      <th>is_video</th>\n",
       "      <th>media_only</th>\n",
       "      <th>name</th>\n",
       "      <th>num_comments</th>\n",
       "      <th>permalink</th>\n",
       "      <th>selftext</th>\n",
       "      <th>subreddit</th>\n",
       "      <th>title</th>\n",
       "      <th>ups</th>\n",
       "      <th>url</th>\n",
       "    </tr>\n",
       "  </thead>\n",
       "  <tbody>\n",
       "    <tr>\n",
       "      <th>0</th>\n",
       "      <td>tizorres</td>\n",
       "      <td>['It helps if you make it a clickable link...\\...</td>\n",
       "      <td>7</td>\n",
       "      <td>[\"It is clickable... it's a link post.\", 'Agre...</td>\n",
       "      <td>1.552082e+09</td>\n",
       "      <td>reddit.com</td>\n",
       "      <td>False</td>\n",
       "      <td>False</td>\n",
       "      <td>False</td>\n",
       "      <td>False</td>\n",
       "      <td>t3_ayvu98</td>\n",
       "      <td>12</td>\n",
       "      <td>/r/CasualConversation/comments/ayvu98/looking_...</td>\n",
       "      <td>NaN</td>\n",
       "      <td>CasualConversation</td>\n",
       "      <td>Looking for more in-depth discussion on heavie...</td>\n",
       "      <td>57</td>\n",
       "      <td>https://www.reddit.com/r/SeriousConversation</td>\n",
       "    </tr>\n",
       "    <tr>\n",
       "      <th>77</th>\n",
       "      <td>libertarian_knight</td>\n",
       "      <td>[\"Hmm I got a couple really. Pearl Jam on Rock...</td>\n",
       "      <td>18</td>\n",
       "      <td>['I looooove pearl jam', 'Yeah I wish I could ...</td>\n",
       "      <td>1.554146e+09</td>\n",
       "      <td>self.CasualConversation</td>\n",
       "      <td>False</td>\n",
       "      <td>False</td>\n",
       "      <td>False</td>\n",
       "      <td>False</td>\n",
       "      <td>t3_b877po</td>\n",
       "      <td>18</td>\n",
       "      <td>/r/CasualConversation/comments/b877po/what_has...</td>\n",
       "      <td>NaN</td>\n",
       "      <td>CasualConversation</td>\n",
       "      <td>What has been your all time favorite concert? ...</td>\n",
       "      <td>3</td>\n",
       "      <td>https://www.reddit.com/r/CasualConversation/co...</td>\n",
       "    </tr>\n",
       "    <tr>\n",
       "      <th>802</th>\n",
       "      <td>tizorres</td>\n",
       "      <td>[\"I wish it didn't overcrowd my feed\"]</td>\n",
       "      <td>1</td>\n",
       "      <td>[]</td>\n",
       "      <td>1.552082e+09</td>\n",
       "      <td>reddit.com</td>\n",
       "      <td>False</td>\n",
       "      <td>False</td>\n",
       "      <td>False</td>\n",
       "      <td>False</td>\n",
       "      <td>t3_ayvt9u</td>\n",
       "      <td>1</td>\n",
       "      <td>/r/SeriousConversation/comments/ayvt9u/looking...</td>\n",
       "      <td>NaN</td>\n",
       "      <td>SeriousConversation</td>\n",
       "      <td>Looking for friendly, more chill chats? Check ...</td>\n",
       "      <td>6</td>\n",
       "      <td>https://www.reddit.com/r/CasualConversation</td>\n",
       "    </tr>\n",
       "  </tbody>\n",
       "</table>\n",
       "</div>"
      ],
      "text/plain": [
       "                 author                                        comts_first  \\\n",
       "0              tizorres  ['It helps if you make it a clickable link...\\...   \n",
       "77   libertarian_knight  [\"Hmm I got a couple really. Pearl Jam on Rock...   \n",
       "802            tizorres             [\"I wish it didn't overcrowd my feed\"]   \n",
       "\n",
       "     comts_num_collected                                       comts_second  \\\n",
       "0                      7  [\"It is clickable... it's a link post.\", 'Agre...   \n",
       "77                    18  ['I looooove pearl jam', 'Yeah I wish I could ...   \n",
       "802                    1                                                 []   \n",
       "\n",
       "          created                   domain edited  is_original_content  \\\n",
       "0    1.552082e+09               reddit.com  False                False   \n",
       "77   1.554146e+09  self.CasualConversation  False                False   \n",
       "802  1.552082e+09               reddit.com  False                False   \n",
       "\n",
       "     is_video  media_only       name  num_comments  \\\n",
       "0       False       False  t3_ayvu98            12   \n",
       "77      False       False  t3_b877po            18   \n",
       "802     False       False  t3_ayvt9u             1   \n",
       "\n",
       "                                             permalink selftext  \\\n",
       "0    /r/CasualConversation/comments/ayvu98/looking_...      NaN   \n",
       "77   /r/CasualConversation/comments/b877po/what_has...      NaN   \n",
       "802  /r/SeriousConversation/comments/ayvt9u/looking...      NaN   \n",
       "\n",
       "               subreddit                                              title  \\\n",
       "0     CasualConversation  Looking for more in-depth discussion on heavie...   \n",
       "77    CasualConversation  What has been your all time favorite concert? ...   \n",
       "802  SeriousConversation  Looking for friendly, more chill chats? Check ...   \n",
       "\n",
       "     ups                                                url  \n",
       "0     57       https://www.reddit.com/r/SeriousConversation  \n",
       "77     3  https://www.reddit.com/r/CasualConversation/co...  \n",
       "802    6        https://www.reddit.com/r/CasualConversation  "
      ]
     },
     "execution_count": 8,
     "metadata": {},
     "output_type": "execute_result"
    }
   ],
   "source": [
    "# Look at rows with two nulls for 'selftext'\n",
    "df[df['selftext'].isnull()]"
   ]
  },
  {
   "cell_type": "code",
   "execution_count": 9,
   "metadata": {},
   "outputs": [
    {
     "data": {
      "text/plain": [
       "self.SeriousConversation    926\n",
       "self.CasualConversation     801\n",
       "reddit.com                    2\n",
       "Name: domain, dtype: int64"
      ]
     },
     "execution_count": 9,
     "metadata": {},
     "output_type": "execute_result"
    }
   ],
   "source": [
    "# Two have values of reddit.come for domain\n",
    "df['domain'].value_counts()"
   ]
  },
  {
   "cell_type": "code",
   "execution_count": 10,
   "metadata": {},
   "outputs": [
    {
     "name": "stdout",
     "output_type": "stream",
     "text": [
      "Looking for more in-depth discussion on heavier topics? Check out our sister sub - it's like this sub but more serious... r/SeriousConversation\n",
      "Looking for friendly, more chill chats? Check out our sister sub - it's like this sub but more casual... r/CasualConversation\n"
     ]
    }
   ],
   "source": [
    "# The two posts from reddit.com are promoting the sister sub...remove theses rows\n",
    "print(df[(df['selftext'].isnull()) & (df['domain'] == 'reddit.com')]['title'].values[0])\n",
    "print(df[(df['selftext'].isnull()) & (df['domain'] == 'reddit.com')]['title'].values[1])"
   ]
  },
  {
   "cell_type": "code",
   "execution_count": 11,
   "metadata": {},
   "outputs": [],
   "source": [
    "# Remove the two rows where 'reddit.com' is the domain name\n",
    "df.drop(labels=df[df['domain'] == 'reddit.com'].index, inplace=True)"
   ]
  },
  {
   "cell_type": "code",
   "execution_count": 12,
   "metadata": {},
   "outputs": [],
   "source": [
    "# Reset index.\n",
    "df.reset_index(drop=True, inplace=True)"
   ]
  },
  {
   "cell_type": "code",
   "execution_count": 13,
   "metadata": {},
   "outputs": [
    {
     "data": {
      "text/plain": [
       "self.SeriousConversation    926\n",
       "self.CasualConversation     801\n",
       "Name: domain, dtype: int64"
      ]
     },
     "execution_count": 13,
     "metadata": {},
     "output_type": "execute_result"
    }
   ],
   "source": [
    "# Verify changes\n",
    "df['domain'].value_counts()"
   ]
  },
  {
   "cell_type": "code",
   "execution_count": 14,
   "metadata": {},
   "outputs": [
    {
     "data": {
      "text/html": [
       "<div>\n",
       "<style scoped>\n",
       "    .dataframe tbody tr th:only-of-type {\n",
       "        vertical-align: middle;\n",
       "    }\n",
       "\n",
       "    .dataframe tbody tr th {\n",
       "        vertical-align: top;\n",
       "    }\n",
       "\n",
       "    .dataframe thead th {\n",
       "        text-align: right;\n",
       "    }\n",
       "</style>\n",
       "<table border=\"1\" class=\"dataframe\">\n",
       "  <thead>\n",
       "    <tr style=\"text-align: right;\">\n",
       "      <th></th>\n",
       "      <th>author</th>\n",
       "      <th>comts_first</th>\n",
       "      <th>comts_num_collected</th>\n",
       "      <th>comts_second</th>\n",
       "      <th>created</th>\n",
       "      <th>domain</th>\n",
       "      <th>edited</th>\n",
       "      <th>is_original_content</th>\n",
       "      <th>is_video</th>\n",
       "      <th>media_only</th>\n",
       "      <th>name</th>\n",
       "      <th>num_comments</th>\n",
       "      <th>permalink</th>\n",
       "      <th>selftext</th>\n",
       "      <th>subreddit</th>\n",
       "      <th>title</th>\n",
       "      <th>ups</th>\n",
       "      <th>url</th>\n",
       "    </tr>\n",
       "  </thead>\n",
       "  <tbody>\n",
       "    <tr>\n",
       "      <th>76</th>\n",
       "      <td>libertarian_knight</td>\n",
       "      <td>[\"Hmm I got a couple really. Pearl Jam on Rock...</td>\n",
       "      <td>18</td>\n",
       "      <td>['I looooove pearl jam', 'Yeah I wish I could ...</td>\n",
       "      <td>1.554146e+09</td>\n",
       "      <td>self.CasualConversation</td>\n",
       "      <td>False</td>\n",
       "      <td>False</td>\n",
       "      <td>False</td>\n",
       "      <td>False</td>\n",
       "      <td>t3_b877po</td>\n",
       "      <td>18</td>\n",
       "      <td>/r/CasualConversation/comments/b877po/what_has...</td>\n",
       "      <td>NaN</td>\n",
       "      <td>CasualConversation</td>\n",
       "      <td>What has been your all time favorite concert? ...</td>\n",
       "      <td>3</td>\n",
       "      <td>https://www.reddit.com/r/CasualConversation/co...</td>\n",
       "    </tr>\n",
       "  </tbody>\n",
       "</table>\n",
       "</div>"
      ],
      "text/plain": [
       "                author                                        comts_first  \\\n",
       "76  libertarian_knight  [\"Hmm I got a couple really. Pearl Jam on Rock...   \n",
       "\n",
       "    comts_num_collected                                       comts_second  \\\n",
       "76                   18  ['I looooove pearl jam', 'Yeah I wish I could ...   \n",
       "\n",
       "         created                   domain edited  is_original_content  \\\n",
       "76  1.554146e+09  self.CasualConversation  False                False   \n",
       "\n",
       "    is_video  media_only       name  num_comments  \\\n",
       "76     False       False  t3_b877po            18   \n",
       "\n",
       "                                            permalink selftext  \\\n",
       "76  /r/CasualConversation/comments/b877po/what_has...      NaN   \n",
       "\n",
       "             subreddit                                              title  \\\n",
       "76  CasualConversation  What has been your all time favorite concert? ...   \n",
       "\n",
       "    ups                                                url  \n",
       "76    3  https://www.reddit.com/r/CasualConversation/co...  "
      ]
     },
     "execution_count": 14,
     "metadata": {},
     "output_type": "execute_result"
    }
   ],
   "source": [
    "# Fill remaining empty selftext row with an empty string\n",
    "df[df['selftext'].isnull()]"
   ]
  },
  {
   "cell_type": "code",
   "execution_count": 15,
   "metadata": {},
   "outputs": [],
   "source": [
    "df['selftext'].fillna('', inplace=True)"
   ]
  },
  {
   "cell_type": "code",
   "execution_count": 16,
   "metadata": {},
   "outputs": [
    {
     "data": {
      "text/plain": [
       "0"
      ]
     },
     "execution_count": 16,
     "metadata": {},
     "output_type": "execute_result"
    }
   ],
   "source": [
    "# Verify 'selftext' is no longer null (the only column that had nulls)\n",
    "df['selftext'].isnull().sum()"
   ]
  },
  {
   "cell_type": "markdown",
   "metadata": {},
   "source": [
    "### Look for duplicates"
   ]
  },
  {
   "cell_type": "code",
   "execution_count": 17,
   "metadata": {},
   "outputs": [
    {
     "data": {
      "text/html": [
       "<div>\n",
       "<style scoped>\n",
       "    .dataframe tbody tr th:only-of-type {\n",
       "        vertical-align: middle;\n",
       "    }\n",
       "\n",
       "    .dataframe tbody tr th {\n",
       "        vertical-align: top;\n",
       "    }\n",
       "\n",
       "    .dataframe thead th {\n",
       "        text-align: right;\n",
       "    }\n",
       "</style>\n",
       "<table border=\"1\" class=\"dataframe\">\n",
       "  <thead>\n",
       "    <tr style=\"text-align: right;\">\n",
       "      <th></th>\n",
       "      <th>author</th>\n",
       "      <th>comts_first</th>\n",
       "      <th>comts_num_collected</th>\n",
       "      <th>comts_second</th>\n",
       "      <th>created</th>\n",
       "      <th>domain</th>\n",
       "      <th>edited</th>\n",
       "      <th>is_original_content</th>\n",
       "      <th>is_video</th>\n",
       "      <th>media_only</th>\n",
       "      <th>name</th>\n",
       "      <th>num_comments</th>\n",
       "      <th>permalink</th>\n",
       "      <th>selftext</th>\n",
       "      <th>subreddit</th>\n",
       "      <th>title</th>\n",
       "      <th>ups</th>\n",
       "      <th>url</th>\n",
       "    </tr>\n",
       "  </thead>\n",
       "  <tbody>\n",
       "  </tbody>\n",
       "</table>\n",
       "</div>"
      ],
      "text/plain": [
       "Empty DataFrame\n",
       "Columns: [author, comts_first, comts_num_collected, comts_second, created, domain, edited, is_original_content, is_video, media_only, name, num_comments, permalink, selftext, subreddit, title, ups, url]\n",
       "Index: []"
      ]
     },
     "execution_count": 17,
     "metadata": {},
     "output_type": "execute_result"
    }
   ],
   "source": [
    "# No duplicates\n",
    "df[df.duplicated()==True]"
   ]
  },
  {
   "cell_type": "markdown",
   "metadata": {},
   "source": [
    "### Check values in the columns"
   ]
  },
  {
   "cell_type": "code",
   "execution_count": 18,
   "metadata": {},
   "outputs": [
    {
     "data": {
      "text/plain": [
       "Index(['author', 'comts_first', 'comts_num_collected', 'comts_second',\n",
       "       'created', 'domain', 'edited', 'is_original_content', 'is_video',\n",
       "       'media_only', 'name', 'num_comments', 'permalink', 'selftext',\n",
       "       'subreddit', 'title', 'ups', 'url'],\n",
       "      dtype='object')"
      ]
     },
     "execution_count": 18,
     "metadata": {},
     "output_type": "execute_result"
    }
   ],
   "source": [
    "df.columns"
   ]
  },
  {
   "cell_type": "code",
   "execution_count": 19,
   "metadata": {},
   "outputs": [
    {
     "data": {
      "text/plain": [
       "SeriousConversation    926\n",
       "CasualConversation     801\n",
       "Name: subreddit, dtype: int64"
      ]
     },
     "execution_count": 19,
     "metadata": {},
     "output_type": "execute_result"
    }
   ],
   "source": [
    "df['subreddit'].value_counts()"
   ]
  },
  {
   "cell_type": "code",
   "execution_count": 20,
   "metadata": {},
   "outputs": [
    {
     "data": {
      "text/plain": [
       "self.SeriousConversation    926\n",
       "self.CasualConversation     801\n",
       "Name: domain, dtype: int64"
      ]
     },
     "execution_count": 20,
     "metadata": {},
     "output_type": "execute_result"
    }
   ],
   "source": [
    "df['domain'].value_counts()\n",
    "# Essentially the same as subreddit so can remove"
   ]
  },
  {
   "cell_type": "code",
   "execution_count": 21,
   "metadata": {},
   "outputs": [
    {
     "data": {
      "text/plain": [
       "False    1727\n",
       "Name: is_original_content, dtype: int64"
      ]
     },
     "execution_count": 21,
     "metadata": {},
     "output_type": "execute_result"
    }
   ],
   "source": [
    "df['is_original_content'].value_counts()\n",
    "# Drop...all are false"
   ]
  },
  {
   "cell_type": "code",
   "execution_count": 22,
   "metadata": {},
   "outputs": [
    {
     "data": {
      "text/plain": [
       "False    1727\n",
       "Name: is_video, dtype: int64"
      ]
     },
     "execution_count": 22,
     "metadata": {},
     "output_type": "execute_result"
    }
   ],
   "source": [
    "df['is_video'].value_counts()\n",
    "# Drop...all are false"
   ]
  },
  {
   "cell_type": "code",
   "execution_count": 23,
   "metadata": {},
   "outputs": [
    {
     "data": {
      "text/plain": [
       "False    1727\n",
       "Name: media_only, dtype: int64"
      ]
     },
     "execution_count": 23,
     "metadata": {},
     "output_type": "execute_result"
    }
   ],
   "source": [
    "df['media_only'].value_counts()\n",
    "# Drop...all are false"
   ]
  },
  {
   "cell_type": "code",
   "execution_count": 24,
   "metadata": {},
   "outputs": [],
   "source": [
    "# Drop above columns\n",
    "df.drop(columns=['domain', 'is_original_content', 'is_video', 'media_only'], inplace=True)"
   ]
  },
  {
   "cell_type": "code",
   "execution_count": 25,
   "metadata": {},
   "outputs": [
    {
     "data": {
      "text/plain": [
       "(1727, 14)"
      ]
     },
     "execution_count": 25,
     "metadata": {},
     "output_type": "execute_result"
    }
   ],
   "source": [
    "# Verify 4 columns were dropped (originally 18)\n",
    "df.shape"
   ]
  },
  {
   "cell_type": "markdown",
   "metadata": {},
   "source": [
    "### Remove rows containing the subreddit name"
   ]
  },
  {
   "cell_type": "code",
   "execution_count": 26,
   "metadata": {},
   "outputs": [
    {
     "name": "stdout",
     "output_type": "stream",
     "text": [
      "0 Introducing: The New Mods of r/CasualConversation! (Plus a bonus secret!)\n",
      "142 Hey /r/CasualConversation, I really just want to say thank you!\n",
      "302 Hi guys! I'm doing an essay on the writing culture of r/CasualConversations. If you can, please take a few moments to fill out this short 4-question survey on your experience using this sub. Thanks :)\n",
      "1125 Not the drunk story I was expecting (x-post from /r/CasualConversation)\n"
     ]
    }
   ],
   "source": [
    "# Look at rows containing 'CasualConversation'\n",
    "for i, title in enumerate(df['title']):\n",
    "    if 'casualconversation' in title.lower():\n",
    "        print(i, title)"
   ]
  },
  {
   "cell_type": "code",
   "execution_count": 27,
   "metadata": {},
   "outputs": [
    {
     "name": "stdout",
     "output_type": "stream",
     "text": [
      "1429 [META] An update on the revamping progress of r/SeriousConversation\n",
      "1575 [META]We are in the process of revamping r/SeriousConversation. Let's have a chat about it!\n"
     ]
    }
   ],
   "source": [
    "# Look at rows containing 'SeriousConversation'\n",
    "for i, title in enumerate(df['title']):\n",
    "    if 'seriousconversation' in title.lower():\n",
    "        print(i, title)"
   ]
  },
  {
   "cell_type": "code",
   "execution_count": 28,
   "metadata": {},
   "outputs": [
    {
     "data": {
      "text/plain": [
       "[0, 142, 302, 1125, 1429, 1575]"
      ]
     },
     "execution_count": 28,
     "metadata": {},
     "output_type": "execute_result"
    }
   ],
   "source": [
    "# Get index for rows to remove\n",
    "remove_casual = [i for i, title in enumerate(df['title']) if 'casualconversation' in title.lower()]\n",
    "remove_serious = [i for i, title in enumerate(df['title']) if 'seriousconversation' in title.lower()]\n",
    "remove = remove_casual + remove_serious\n",
    "remove"
   ]
  },
  {
   "cell_type": "code",
   "execution_count": 29,
   "metadata": {},
   "outputs": [],
   "source": [
    "# Drop rows from list (and reset index)\n",
    "# Why? These are not a large percent of the data and I do not beleive they will add any benefit by keeping them\n",
    "# Rows = 1727, Removing = 6 (6/1727 = 0.3%)\n",
    "df.drop(labels=remove, inplace=True)\n",
    "df.reset_index(drop=True, inplace=True)"
   ]
  },
  {
   "cell_type": "code",
   "execution_count": 30,
   "metadata": {
    "scrolled": true
   },
   "outputs": [
    {
     "data": {
      "text/plain": [
       "(1721, 14)"
      ]
     },
     "execution_count": 30,
     "metadata": {},
     "output_type": "execute_result"
    }
   ],
   "source": [
    "# Verify dropped rows (1727 - 6 = 1721)\n",
    "df.shape"
   ]
  },
  {
   "cell_type": "markdown",
   "metadata": {},
   "source": [
    "### Remove rows where the author is the moderator"
   ]
  },
  {
   "cell_type": "code",
   "execution_count": 31,
   "metadata": {},
   "outputs": [
    {
     "data": {
      "text/plain": [
       "SeriousConversation    26\n",
       "CasualConversation      1\n",
       "Name: subreddit, dtype: int64"
      ]
     },
     "execution_count": 31,
     "metadata": {},
     "output_type": "execute_result"
    }
   ],
   "source": [
    "# Check for rows where the author is 'AutoModerator'\n",
    "df[df['author'] == 'AutoModerator']['subreddit'].value_counts()"
   ]
  },
  {
   "cell_type": "code",
   "execution_count": 32,
   "metadata": {},
   "outputs": [
    {
     "data": {
      "text/html": [
       "<div>\n",
       "<style scoped>\n",
       "    .dataframe tbody tr th:only-of-type {\n",
       "        vertical-align: middle;\n",
       "    }\n",
       "\n",
       "    .dataframe tbody tr th {\n",
       "        vertical-align: top;\n",
       "    }\n",
       "\n",
       "    .dataframe thead th {\n",
       "        text-align: right;\n",
       "    }\n",
       "</style>\n",
       "<table border=\"1\" class=\"dataframe\">\n",
       "  <thead>\n",
       "    <tr style=\"text-align: right;\">\n",
       "      <th></th>\n",
       "      <th>subreddit</th>\n",
       "      <th>title</th>\n",
       "      <th>selftext</th>\n",
       "      <th>comts_first</th>\n",
       "    </tr>\n",
       "  </thead>\n",
       "  <tbody>\n",
       "    <tr>\n",
       "      <th>620</th>\n",
       "      <td>CasualConversation</td>\n",
       "      <td>Subreddit Chats - live chat with us on reddit ...</td>\n",
       "      <td>Our subreddit has many ways to keep in touch w...</td>\n",
       "      <td>[]</td>\n",
       "    </tr>\n",
       "    <tr>\n",
       "      <th>798</th>\n",
       "      <td>SeriousConversation</td>\n",
       "      <td>Megathread: Tell us what's on your mind.</td>\n",
       "      <td>Here is your weekly megathread for **talking t...</td>\n",
       "      <td>[\"I'm concocting an utterly evil prank, now al...</td>\n",
       "    </tr>\n",
       "    <tr>\n",
       "      <th>873</th>\n",
       "      <td>SeriousConversation</td>\n",
       "      <td>Megathread: Tell us what's on your mind.</td>\n",
       "      <td>Here is your weekly megathread for **talking t...</td>\n",
       "      <td>['Been feeling lonely as heck lately. I really...</td>\n",
       "    </tr>\n",
       "    <tr>\n",
       "      <th>935</th>\n",
       "      <td>SeriousConversation</td>\n",
       "      <td>Megathread: Tell us what's on your mind.</td>\n",
       "      <td>Here is your weekly megathread for **talking t...</td>\n",
       "      <td>['Guys, there\\'s a very strong chance my wife ...</td>\n",
       "    </tr>\n",
       "    <tr>\n",
       "      <th>1020</th>\n",
       "      <td>SeriousConversation</td>\n",
       "      <td>Megathread: Tell us what's on your mind.</td>\n",
       "      <td>Here is your weekly megathread for **talking t...</td>\n",
       "      <td>[\"i've become complacent with my declining hea...</td>\n",
       "    </tr>\n",
       "    <tr>\n",
       "      <th>1094</th>\n",
       "      <td>SeriousConversation</td>\n",
       "      <td>Megathread: Tell us what's on your mind.</td>\n",
       "      <td>Here is your weekly megathread for **talking t...</td>\n",
       "      <td>[\"After years of living an extremely frugal li...</td>\n",
       "    </tr>\n",
       "    <tr>\n",
       "      <th>1134</th>\n",
       "      <td>SeriousConversation</td>\n",
       "      <td>Megathread: Tell us what's on your mind.</td>\n",
       "      <td>Here is your weekly megathread for **talking t...</td>\n",
       "      <td>['(Not a native english speaker, so please for...</td>\n",
       "    </tr>\n",
       "    <tr>\n",
       "      <th>1180</th>\n",
       "      <td>SeriousConversation</td>\n",
       "      <td>Megathread: Tell us what's on your mind.</td>\n",
       "      <td>Here is your weekly megathread for **talking t...</td>\n",
       "      <td>['So there’s this girl. I love her. Like dude,...</td>\n",
       "    </tr>\n",
       "    <tr>\n",
       "      <th>1214</th>\n",
       "      <td>SeriousConversation</td>\n",
       "      <td>Megathread: Tell us what's on your mind.</td>\n",
       "      <td>Here is your weekly megathread for **talking t...</td>\n",
       "      <td>[\"There's someone out there I'm perfect for, b...</td>\n",
       "    </tr>\n",
       "    <tr>\n",
       "      <th>1251</th>\n",
       "      <td>SeriousConversation</td>\n",
       "      <td>Megathread: Tell us what's on your mind.</td>\n",
       "      <td>Here is your weekly megathread for **talking t...</td>\n",
       "      <td>[\"I want to go to therapy for a lot of issues....</td>\n",
       "    </tr>\n",
       "    <tr>\n",
       "      <th>1290</th>\n",
       "      <td>SeriousConversation</td>\n",
       "      <td>Megathread: Tell us what's on your mind.</td>\n",
       "      <td>Here is your weekly megathread for **talking t...</td>\n",
       "      <td>['[deleted]', \"I'm still wondering what's up w...</td>\n",
       "    </tr>\n",
       "    <tr>\n",
       "      <th>1328</th>\n",
       "      <td>SeriousConversation</td>\n",
       "      <td>Megathread: Tell us what's on your mind.</td>\n",
       "      <td>Here is your weekly megathread for **talking t...</td>\n",
       "      <td>[\"I decided not to lose my virginity to a sex ...</td>\n",
       "    </tr>\n",
       "    <tr>\n",
       "      <th>1363</th>\n",
       "      <td>SeriousConversation</td>\n",
       "      <td>Megathread: Tell us what's on your mind.</td>\n",
       "      <td>Here is your weekly megathread for **talking t...</td>\n",
       "      <td>[\"I want to achieve something bigger, but I do...</td>\n",
       "    </tr>\n",
       "    <tr>\n",
       "      <th>1409</th>\n",
       "      <td>SeriousConversation</td>\n",
       "      <td>Megathread: Tell us what's on your mind.</td>\n",
       "      <td>Here is your weekly megathread for **talking t...</td>\n",
       "      <td>['Guess I’ll bite. I don’t feel “man enough.” ...</td>\n",
       "    </tr>\n",
       "    <tr>\n",
       "      <th>1438</th>\n",
       "      <td>SeriousConversation</td>\n",
       "      <td>Megathread: Tell us what's on your mind.</td>\n",
       "      <td>Here is your weekly megathread for **talking t...</td>\n",
       "      <td>['I feel the policies on immigration are liter...</td>\n",
       "    </tr>\n",
       "    <tr>\n",
       "      <th>1464</th>\n",
       "      <td>SeriousConversation</td>\n",
       "      <td>Megathread: Tell us what's on your mind.</td>\n",
       "      <td>Here is your weekly megathread for **talking t...</td>\n",
       "      <td>['I need a hug :(', 'I’m having the worst Chri...</td>\n",
       "    </tr>\n",
       "    <tr>\n",
       "      <th>1487</th>\n",
       "      <td>SeriousConversation</td>\n",
       "      <td>Megathread: Tell us what's on your mind.</td>\n",
       "      <td>Here is your weekly megathread for **talking t...</td>\n",
       "      <td>['What\\'s bothering me is a combination of thi...</td>\n",
       "    </tr>\n",
       "    <tr>\n",
       "      <th>1498</th>\n",
       "      <td>SeriousConversation</td>\n",
       "      <td>Megathread: Tell us what's on your mind.</td>\n",
       "      <td>Here is your weekly megathread for **talking t...</td>\n",
       "      <td>[]</td>\n",
       "    </tr>\n",
       "    <tr>\n",
       "      <th>1534</th>\n",
       "      <td>SeriousConversation</td>\n",
       "      <td>Megathread: Tell us what's on your mind.</td>\n",
       "      <td>Here is your weekly megathread for **talking t...</td>\n",
       "      <td>['Nothing bothering me for once in six years, ...</td>\n",
       "    </tr>\n",
       "    <tr>\n",
       "      <th>1562</th>\n",
       "      <td>SeriousConversation</td>\n",
       "      <td>Megathread: Tell us what's on your mind.</td>\n",
       "      <td>Here is your weekly megathread for **talking t...</td>\n",
       "      <td>['I realize that the reason I’m bad at making ...</td>\n",
       "    </tr>\n",
       "    <tr>\n",
       "      <th>1599</th>\n",
       "      <td>SeriousConversation</td>\n",
       "      <td>Megathread: Tell us what's on your mind.</td>\n",
       "      <td>Here is your weekly megathread for **talking t...</td>\n",
       "      <td>['After looking at r/all again, I am convinced...</td>\n",
       "    </tr>\n",
       "    <tr>\n",
       "      <th>1627</th>\n",
       "      <td>SeriousConversation</td>\n",
       "      <td>Megathread: Tell us what's on your mind.</td>\n",
       "      <td>Here is your weekly megathread for **talking t...</td>\n",
       "      <td>[\"Just thinking about how lonely life really i...</td>\n",
       "    </tr>\n",
       "    <tr>\n",
       "      <th>1640</th>\n",
       "      <td>SeriousConversation</td>\n",
       "      <td>Megathread: Tell us what's on your mind.</td>\n",
       "      <td>Here is your weekly megathread for **talking t...</td>\n",
       "      <td>[\"This girl I fell for. I'm not sure how she f...</td>\n",
       "    </tr>\n",
       "    <tr>\n",
       "      <th>1654</th>\n",
       "      <td>SeriousConversation</td>\n",
       "      <td>Megathread: Tell us what's on your mind.</td>\n",
       "      <td>Here is your weekly megathread for **talking t...</td>\n",
       "      <td>['My husband’s father died this morning. Less ...</td>\n",
       "    </tr>\n",
       "    <tr>\n",
       "      <th>1680</th>\n",
       "      <td>SeriousConversation</td>\n",
       "      <td>Megathread: Tell us what's on your mind.</td>\n",
       "      <td>Here is your weekly megathread for **talking t...</td>\n",
       "      <td>[\"I hate studying so much right now. I've comp...</td>\n",
       "    </tr>\n",
       "    <tr>\n",
       "      <th>1696</th>\n",
       "      <td>SeriousConversation</td>\n",
       "      <td>Megathread: Tell us what's on your mind.</td>\n",
       "      <td>Here is your weekly megathread for **talking t...</td>\n",
       "      <td>['I’m leaving to go to Europe for a week today...</td>\n",
       "    </tr>\n",
       "    <tr>\n",
       "      <th>1719</th>\n",
       "      <td>SeriousConversation</td>\n",
       "      <td>Megathread: Tell us what's on your mind.</td>\n",
       "      <td>Here is your weekly megathread for **talking t...</td>\n",
       "      <td>[\"Finally putting in the effort to redecorate ...</td>\n",
       "    </tr>\n",
       "  </tbody>\n",
       "</table>\n",
       "</div>"
      ],
      "text/plain": [
       "                subreddit                                              title  \\\n",
       "620    CasualConversation  Subreddit Chats - live chat with us on reddit ...   \n",
       "798   SeriousConversation           Megathread: Tell us what's on your mind.   \n",
       "873   SeriousConversation           Megathread: Tell us what's on your mind.   \n",
       "935   SeriousConversation           Megathread: Tell us what's on your mind.   \n",
       "1020  SeriousConversation           Megathread: Tell us what's on your mind.   \n",
       "1094  SeriousConversation           Megathread: Tell us what's on your mind.   \n",
       "1134  SeriousConversation           Megathread: Tell us what's on your mind.   \n",
       "1180  SeriousConversation           Megathread: Tell us what's on your mind.   \n",
       "1214  SeriousConversation           Megathread: Tell us what's on your mind.   \n",
       "1251  SeriousConversation           Megathread: Tell us what's on your mind.   \n",
       "1290  SeriousConversation           Megathread: Tell us what's on your mind.   \n",
       "1328  SeriousConversation           Megathread: Tell us what's on your mind.   \n",
       "1363  SeriousConversation           Megathread: Tell us what's on your mind.   \n",
       "1409  SeriousConversation           Megathread: Tell us what's on your mind.   \n",
       "1438  SeriousConversation           Megathread: Tell us what's on your mind.   \n",
       "1464  SeriousConversation           Megathread: Tell us what's on your mind.   \n",
       "1487  SeriousConversation           Megathread: Tell us what's on your mind.   \n",
       "1498  SeriousConversation           Megathread: Tell us what's on your mind.   \n",
       "1534  SeriousConversation           Megathread: Tell us what's on your mind.   \n",
       "1562  SeriousConversation           Megathread: Tell us what's on your mind.   \n",
       "1599  SeriousConversation           Megathread: Tell us what's on your mind.   \n",
       "1627  SeriousConversation           Megathread: Tell us what's on your mind.   \n",
       "1640  SeriousConversation           Megathread: Tell us what's on your mind.   \n",
       "1654  SeriousConversation           Megathread: Tell us what's on your mind.   \n",
       "1680  SeriousConversation           Megathread: Tell us what's on your mind.   \n",
       "1696  SeriousConversation           Megathread: Tell us what's on your mind.   \n",
       "1719  SeriousConversation           Megathread: Tell us what's on your mind.   \n",
       "\n",
       "                                               selftext  \\\n",
       "620   Our subreddit has many ways to keep in touch w...   \n",
       "798   Here is your weekly megathread for **talking t...   \n",
       "873   Here is your weekly megathread for **talking t...   \n",
       "935   Here is your weekly megathread for **talking t...   \n",
       "1020  Here is your weekly megathread for **talking t...   \n",
       "1094  Here is your weekly megathread for **talking t...   \n",
       "1134  Here is your weekly megathread for **talking t...   \n",
       "1180  Here is your weekly megathread for **talking t...   \n",
       "1214  Here is your weekly megathread for **talking t...   \n",
       "1251  Here is your weekly megathread for **talking t...   \n",
       "1290  Here is your weekly megathread for **talking t...   \n",
       "1328  Here is your weekly megathread for **talking t...   \n",
       "1363  Here is your weekly megathread for **talking t...   \n",
       "1409  Here is your weekly megathread for **talking t...   \n",
       "1438  Here is your weekly megathread for **talking t...   \n",
       "1464  Here is your weekly megathread for **talking t...   \n",
       "1487  Here is your weekly megathread for **talking t...   \n",
       "1498  Here is your weekly megathread for **talking t...   \n",
       "1534  Here is your weekly megathread for **talking t...   \n",
       "1562  Here is your weekly megathread for **talking t...   \n",
       "1599  Here is your weekly megathread for **talking t...   \n",
       "1627  Here is your weekly megathread for **talking t...   \n",
       "1640  Here is your weekly megathread for **talking t...   \n",
       "1654  Here is your weekly megathread for **talking t...   \n",
       "1680  Here is your weekly megathread for **talking t...   \n",
       "1696  Here is your weekly megathread for **talking t...   \n",
       "1719  Here is your weekly megathread for **talking t...   \n",
       "\n",
       "                                            comts_first  \n",
       "620                                                  []  \n",
       "798   [\"I'm concocting an utterly evil prank, now al...  \n",
       "873   ['Been feeling lonely as heck lately. I really...  \n",
       "935   ['Guys, there\\'s a very strong chance my wife ...  \n",
       "1020  [\"i've become complacent with my declining hea...  \n",
       "1094  [\"After years of living an extremely frugal li...  \n",
       "1134  ['(Not a native english speaker, so please for...  \n",
       "1180  ['So there’s this girl. I love her. Like dude,...  \n",
       "1214  [\"There's someone out there I'm perfect for, b...  \n",
       "1251  [\"I want to go to therapy for a lot of issues....  \n",
       "1290  ['[deleted]', \"I'm still wondering what's up w...  \n",
       "1328  [\"I decided not to lose my virginity to a sex ...  \n",
       "1363  [\"I want to achieve something bigger, but I do...  \n",
       "1409  ['Guess I’ll bite. I don’t feel “man enough.” ...  \n",
       "1438  ['I feel the policies on immigration are liter...  \n",
       "1464  ['I need a hug :(', 'I’m having the worst Chri...  \n",
       "1487  ['What\\'s bothering me is a combination of thi...  \n",
       "1498                                                 []  \n",
       "1534  ['Nothing bothering me for once in six years, ...  \n",
       "1562  ['I realize that the reason I’m bad at making ...  \n",
       "1599  ['After looking at r/all again, I am convinced...  \n",
       "1627  [\"Just thinking about how lonely life really i...  \n",
       "1640  [\"This girl I fell for. I'm not sure how she f...  \n",
       "1654  ['My husband’s father died this morning. Less ...  \n",
       "1680  [\"I hate studying so much right now. I've comp...  \n",
       "1696  ['I’m leaving to go to Europe for a week today...  \n",
       "1719  [\"Finally putting in the effort to redecorate ...  "
      ]
     },
     "execution_count": 32,
     "metadata": {},
     "output_type": "execute_result"
    }
   ],
   "source": [
    "# What do these posts look like\n",
    "df[df['author'] == 'AutoModerator'][['subreddit', 'title', 'selftext', 'comts_first']]"
   ]
  },
  {
   "cell_type": "code",
   "execution_count": 33,
   "metadata": {},
   "outputs": [],
   "source": [
    "# Get index for these rows and drop rows (and reset index)\n",
    "# Why? Comments may be helpful, but the title and selftext do not offer anything that could help\n",
    "# There are more from SeriousConversation anyways and we have more observations from SeriousConversations \n",
    "# so okay to drop?\n",
    "moderator_rows = df[df['author'] == 'AutoModerator'].index\n",
    "df.drop(labels=moderator_rows, inplace=True)\n",
    "df.reset_index(drop=True, inplace=True)"
   ]
  },
  {
   "cell_type": "code",
   "execution_count": 34,
   "metadata": {},
   "outputs": [
    {
     "data": {
      "text/plain": [
       "SeriousConversation    897\n",
       "CasualConversation     797\n",
       "Name: subreddit, dtype: int64"
      ]
     },
     "execution_count": 34,
     "metadata": {},
     "output_type": "execute_result"
    }
   ],
   "source": [
    "# Get new value counts for each subreddit\n",
    "df['subreddit'].value_counts()"
   ]
  },
  {
   "cell_type": "markdown",
   "metadata": {},
   "source": [
    "### Clean up text columns"
   ]
  },
  {
   "cell_type": "code",
   "execution_count": 35,
   "metadata": {},
   "outputs": [
    {
     "data": {
      "text/html": [
       "<div>\n",
       "<style scoped>\n",
       "    .dataframe tbody tr th:only-of-type {\n",
       "        vertical-align: middle;\n",
       "    }\n",
       "\n",
       "    .dataframe tbody tr th {\n",
       "        vertical-align: top;\n",
       "    }\n",
       "\n",
       "    .dataframe thead th {\n",
       "        text-align: right;\n",
       "    }\n",
       "</style>\n",
       "<table border=\"1\" class=\"dataframe\">\n",
       "  <thead>\n",
       "    <tr style=\"text-align: right;\">\n",
       "      <th></th>\n",
       "      <th>title</th>\n",
       "      <th>selftext</th>\n",
       "      <th>comts_first</th>\n",
       "      <th>comts_second</th>\n",
       "    </tr>\n",
       "  </thead>\n",
       "  <tbody>\n",
       "    <tr>\n",
       "      <th>0</th>\n",
       "      <td>Man, I felt so cool yesterday.</td>\n",
       "      <td>Alright, so I recently started working my firs...</td>\n",
       "      <td>['This made me smile ty for sharing ', \"I abso...</td>\n",
       "      <td>['I couldn’t find anywhere else to share it, a...</td>\n",
       "    </tr>\n",
       "    <tr>\n",
       "      <th>1</th>\n",
       "      <td>Yay me! Today marks 1yr cigarette free!</td>\n",
       "      <td>No it's not an April fool's joke, LOL, I actua...</td>\n",
       "      <td>[\"That's a tremendous milestone! See you next ...</td>\n",
       "      <td>[\"You bet. I don't think that will be a proble...</td>\n",
       "    </tr>\n",
       "    <tr>\n",
       "      <th>2</th>\n",
       "      <td>Cat school</td>\n",
       "      <td>Found out my daughter thinks when the cat goes...</td>\n",
       "      <td>['I think you have no other choice but to make...</td>\n",
       "      <td>['Great idea!']</td>\n",
       "    </tr>\n",
       "    <tr>\n",
       "      <th>3</th>\n",
       "      <td>April fools really bothers me because it prett...</td>\n",
       "      <td>You think you’re safe because it’s April secon...</td>\n",
       "      <td>['Yeah. I also learn about obscure internation...</td>\n",
       "      <td>['Tis a constant struggle \\n', 'It really suck...</td>\n",
       "    </tr>\n",
       "    <tr>\n",
       "      <th>4</th>\n",
       "      <td>Out of all of the madness...I cannot believe t...</td>\n",
       "      <td>I am sorry for posting about such things but I...</td>\n",
       "      <td>['What field is your doctorate in?', 'Congratu...</td>\n",
       "      <td>['I apologise! I was on the phone with my fami...</td>\n",
       "    </tr>\n",
       "  </tbody>\n",
       "</table>\n",
       "</div>"
      ],
      "text/plain": [
       "                                               title  \\\n",
       "0                     Man, I felt so cool yesterday.   \n",
       "1            Yay me! Today marks 1yr cigarette free!   \n",
       "2                                         Cat school   \n",
       "3  April fools really bothers me because it prett...   \n",
       "4  Out of all of the madness...I cannot believe t...   \n",
       "\n",
       "                                            selftext  \\\n",
       "0  Alright, so I recently started working my firs...   \n",
       "1  No it's not an April fool's joke, LOL, I actua...   \n",
       "2  Found out my daughter thinks when the cat goes...   \n",
       "3  You think you’re safe because it’s April secon...   \n",
       "4  I am sorry for posting about such things but I...   \n",
       "\n",
       "                                         comts_first  \\\n",
       "0  ['This made me smile ty for sharing ', \"I abso...   \n",
       "1  [\"That's a tremendous milestone! See you next ...   \n",
       "2  ['I think you have no other choice but to make...   \n",
       "3  ['Yeah. I also learn about obscure internation...   \n",
       "4  ['What field is your doctorate in?', 'Congratu...   \n",
       "\n",
       "                                        comts_second  \n",
       "0  ['I couldn’t find anywhere else to share it, a...  \n",
       "1  [\"You bet. I don't think that will be a proble...  \n",
       "2                                    ['Great idea!']  \n",
       "3  ['Tis a constant struggle \\n', 'It really suck...  \n",
       "4  ['I apologise! I was on the phone with my fami...  "
      ]
     },
     "execution_count": 35,
     "metadata": {},
     "output_type": "execute_result"
    }
   ],
   "source": [
    "df[['title', 'selftext', 'comts_first', 'comts_second']].head()"
   ]
  },
  {
   "cell_type": "code",
   "execution_count": 36,
   "metadata": {},
   "outputs": [],
   "source": [
    "# Import RegEx\n",
    "import re"
   ]
  },
  {
   "cell_type": "code",
   "execution_count": 37,
   "metadata": {},
   "outputs": [],
   "source": [
    "# Reference: Code adapted from NLP_EDA-InClass in DEN Flex by Sam Stack\n",
    "\n",
    "# Create function that takes in a string and returns a string with all lowercase and\n",
    "# Removes punctionation (including underscrose)\n",
    "def clean_text(raw_text):\n",
    "    words = re.sub(r'[^a-z0-9]', r' ', raw_text.lower()).split()\n",
    "    return ' '.join(words)"
   ]
  },
  {
   "cell_type": "code",
   "execution_count": 38,
   "metadata": {},
   "outputs": [],
   "source": [
    "# Apply function to text columns\n",
    "for column in ['title', 'selftext', 'comts_first', 'comts_second']:\n",
    "    df[column] = df[column].apply(clean_text)"
   ]
  },
  {
   "cell_type": "code",
   "execution_count": 39,
   "metadata": {
    "scrolled": true
   },
   "outputs": [
    {
     "data": {
      "text/html": [
       "<div>\n",
       "<style scoped>\n",
       "    .dataframe tbody tr th:only-of-type {\n",
       "        vertical-align: middle;\n",
       "    }\n",
       "\n",
       "    .dataframe tbody tr th {\n",
       "        vertical-align: top;\n",
       "    }\n",
       "\n",
       "    .dataframe thead th {\n",
       "        text-align: right;\n",
       "    }\n",
       "</style>\n",
       "<table border=\"1\" class=\"dataframe\">\n",
       "  <thead>\n",
       "    <tr style=\"text-align: right;\">\n",
       "      <th></th>\n",
       "      <th>title</th>\n",
       "      <th>selftext</th>\n",
       "      <th>comts_first</th>\n",
       "      <th>comts_second</th>\n",
       "    </tr>\n",
       "  </thead>\n",
       "  <tbody>\n",
       "    <tr>\n",
       "      <th>0</th>\n",
       "      <td>man i felt so cool yesterday</td>\n",
       "      <td>alright so i recently started working my first...</td>\n",
       "      <td>this made me smile ty for sharing i absolutely...</td>\n",
       "      <td>i couldn t find anywhere else to share it and ...</td>\n",
       "    </tr>\n",
       "    <tr>\n",
       "      <th>1</th>\n",
       "      <td>yay me today marks 1yr cigarette free</td>\n",
       "      <td>no it s not an april fool s joke lol i actuall...</td>\n",
       "      <td>that s a tremendous milestone see you next yea...</td>\n",
       "      <td>you bet i don t think that will be a problem e...</td>\n",
       "    </tr>\n",
       "    <tr>\n",
       "      <th>2</th>\n",
       "      <td>cat school</td>\n",
       "      <td>found out my daughter thinks when the cat goes...</td>\n",
       "      <td>i think you have no other choice but to make u...</td>\n",
       "      <td>great idea</td>\n",
       "    </tr>\n",
       "    <tr>\n",
       "      <th>3</th>\n",
       "      <td>april fools really bothers me because it prett...</td>\n",
       "      <td>you think you re safe because it s april secon...</td>\n",
       "      <td>yeah i also learn about obscure international ...</td>\n",
       "      <td>tis a constant struggle n it really sucks when...</td>\n",
       "    </tr>\n",
       "    <tr>\n",
       "      <th>4</th>\n",
       "      <td>out of all of the madness i cannot believe tha...</td>\n",
       "      <td>i am sorry for posting about such things but i...</td>\n",
       "      <td>what field is your doctorate in congratulation...</td>\n",
       "      <td>i apologise i was on the phone with my family ...</td>\n",
       "    </tr>\n",
       "  </tbody>\n",
       "</table>\n",
       "</div>"
      ],
      "text/plain": [
       "                                               title  \\\n",
       "0                       man i felt so cool yesterday   \n",
       "1              yay me today marks 1yr cigarette free   \n",
       "2                                         cat school   \n",
       "3  april fools really bothers me because it prett...   \n",
       "4  out of all of the madness i cannot believe tha...   \n",
       "\n",
       "                                            selftext  \\\n",
       "0  alright so i recently started working my first...   \n",
       "1  no it s not an april fool s joke lol i actuall...   \n",
       "2  found out my daughter thinks when the cat goes...   \n",
       "3  you think you re safe because it s april secon...   \n",
       "4  i am sorry for posting about such things but i...   \n",
       "\n",
       "                                         comts_first  \\\n",
       "0  this made me smile ty for sharing i absolutely...   \n",
       "1  that s a tremendous milestone see you next yea...   \n",
       "2  i think you have no other choice but to make u...   \n",
       "3  yeah i also learn about obscure international ...   \n",
       "4  what field is your doctorate in congratulation...   \n",
       "\n",
       "                                        comts_second  \n",
       "0  i couldn t find anywhere else to share it and ...  \n",
       "1  you bet i don t think that will be a problem e...  \n",
       "2                                         great idea  \n",
       "3  tis a constant struggle n it really sucks when...  \n",
       "4  i apologise i was on the phone with my family ...  "
      ]
     },
     "execution_count": 39,
     "metadata": {},
     "output_type": "execute_result"
    }
   ],
   "source": [
    "df[['title', 'selftext', 'comts_first', 'comts_second']].head()"
   ]
  },
  {
   "cell_type": "markdown",
   "metadata": {},
   "source": [
    "### Make One Big Text Column"
   ]
  },
  {
   "cell_type": "code",
   "execution_count": 40,
   "metadata": {},
   "outputs": [],
   "source": [
    "# Combine all text columns\n",
    "df['text'] = df['title'] + df['selftext'] + df['comts_first'] + df['comts_second']"
   ]
  },
  {
   "cell_type": "code",
   "execution_count": 41,
   "metadata": {},
   "outputs": [
    {
     "data": {
      "text/plain": [
       "'man i felt so cool yesterdayalright so i recently started working my first job and it s at undisclosed pizza place so basically this pizza place is kinda like subway where you tell us what you want and we make the pizza in front of you so i was the only one working the front and i have this kinda sunny disposition when dealing with customers kinda goofy and just trying to make them enjoy their experience more there was this one old couple who came in i took their orders put their pizzas in the oven and rang them up they were real happy so i was proud of myself the man reached to shake my hand and i took it and after we finished shaking he gave me two dollars in tips man i felt so cool then my first tip and i did that cool handshake pass thing hell yeahthis made me smile ty for sharing i absolutely love restaurant workers who will interact and be goofy nice to you makes the experience so much better so i can see why he tipped you keep making the place sunny n nand i ve always really wanted to do that cool money pass thing too it always looks cool in movies i like how pumped you are about it that s awesome and it sounds like you re liking your job so far which is good n ni work a customer service job where i talk on the phone all day i used to have phone anxiety now the phone is my favorite part of the day because i get to talk to interesting people during the day which breaks up the work flow nicely today i had a tourist tour around a city booked it yesterday evening the guide was so nice we were in a group of eight people all together and he was really funny but also very informative about the place and interested in us he asked us about our lives and so on basically the whole group enjoyed talking to him n nwe gave him a tip of about 20 sum of all tips by the group and his smile was so bright it made my day even better just as an aside i love those types of pizza places i don t know if the rest of the world agrees with me though since they seem to close as soon as they open in my area pieology or blaze pizza after working at a restaurant i really appreciate good customer service it is so easy to make a positive impression on people i hate giving an establishment my money after having had a negative interaction with the employee n ni ve worked with some really negative coworkers and some customers have even gone as far as saying you are so nice thank you that other girl not so much in my head i was like yikes n you have a great attitude i love it great for you keep up the good work and the good attitude and nice things will keep coming your way do you mean he like slipped you the tip secretly with a handshake like a drug deal pretty cool lol thanks for being so radiant and positive in spite of a few bad apple customers who cry over pizza sounds like pie5 to me they have good personal pan pizzas is it mod pizza that place is amazing congrats on your first job proud of you this is phenomenal n nthank you for sharing this especially with regard to the simple clear and beautiful way that you told the story n ni m glad to hear that your first foray into the world of formal employment is going well n n amp x200b hell yeah worked at a pizza place in high school and one time we got an order for extra extra cheese normally we have a procedure for how much cheese went on an extra cheese pizza but nothing for extra extra cheese so i took that as license to absolutely bury this thing in cheese n ndude walks in older black guy and he says he ordered the extra extra cheese pizza i m at the front of the kitchen so i point to him and i say sir i think you re really gonna be happy with you pizza n n oh yeah you load me up n n yep as much cheese as i could physically fit on there n ndude gets his pizza and opens it up eyes bright and widen just yells that s what i m talking about my man finally somebody gets it n none of my favorite memories in customer service blazedi couldn t find anywhere else to share it and i didn t know how to bring it up organically so this place seemed like the right place thanks for reading it is so cool i m still on cloud nine what cool money pass thing is everyone talking about be the guy that does it to someone i do it all the time and i m relatively cool hell yeah brother a good tip makes ones day when i am in that situation i try to show a good tip to encourage others to be generous also neither pie5 blaze is legit yeah it is kinda sad most of my coworkers are so focused on getting it done they re so flat methodical and monotonous i ve been told so i m loving this job and well i just like pizza hehe maybe it was like a drug deal maybe it wasn t all i know is that when i went to shake his hand there was no money and when i got my hand back i had two dollars in it n nit was cool as hell first one who s dead on the money boss no it s pie5 but thank you hell yeah'"
      ]
     },
     "execution_count": 41,
     "metadata": {},
     "output_type": "execute_result"
    }
   ],
   "source": [
    "df['text'][0]"
   ]
  },
  {
   "cell_type": "markdown",
   "metadata": {},
   "source": [
    "### Create Target Column"
   ]
  },
  {
   "cell_type": "code",
   "execution_count": 42,
   "metadata": {},
   "outputs": [],
   "source": [
    "# Create target column\n",
    "df['is_serious'] = df['subreddit'].map(lambda x: 1 if x == 'SeriousConversation' else 0)"
   ]
  },
  {
   "cell_type": "code",
   "execution_count": 43,
   "metadata": {},
   "outputs": [
    {
     "data": {
      "text/plain": [
       "1    897\n",
       "0    797\n",
       "Name: is_serious, dtype: int64"
      ]
     },
     "execution_count": 43,
     "metadata": {},
     "output_type": "execute_result"
    }
   ],
   "source": [
    "df['is_serious'].value_counts()"
   ]
  },
  {
   "cell_type": "markdown",
   "metadata": {},
   "source": [
    "### Save"
   ]
  },
  {
   "cell_type": "code",
   "execution_count": 44,
   "metadata": {},
   "outputs": [
    {
     "data": {
      "text/plain": [
       "(1694, 16)"
      ]
     },
     "execution_count": 44,
     "metadata": {},
     "output_type": "execute_result"
    }
   ],
   "source": [
    "df.shape"
   ]
  },
  {
   "cell_type": "code",
   "execution_count": 45,
   "metadata": {},
   "outputs": [],
   "source": [
    "# Save to new csv data folder\n",
    "df.to_csv('../data/conversations_clean.csv', index = False)"
   ]
  },
  {
   "cell_type": "markdown",
   "metadata": {},
   "source": [
    "### Clean Comments Datframe"
   ]
  },
  {
   "cell_type": "code",
   "execution_count": 46,
   "metadata": {},
   "outputs": [],
   "source": [
    "# Read in data\n",
    "coms_df = pd.read_csv('../data/comments.csv')"
   ]
  },
  {
   "cell_type": "code",
   "execution_count": 47,
   "metadata": {},
   "outputs": [
    {
     "data": {
      "text/html": [
       "<div>\n",
       "<style scoped>\n",
       "    .dataframe tbody tr th:only-of-type {\n",
       "        vertical-align: middle;\n",
       "    }\n",
       "\n",
       "    .dataframe tbody tr th {\n",
       "        vertical-align: top;\n",
       "    }\n",
       "\n",
       "    .dataframe thead th {\n",
       "        text-align: right;\n",
       "    }\n",
       "</style>\n",
       "<table border=\"1\" class=\"dataframe\">\n",
       "  <thead>\n",
       "    <tr style=\"text-align: right;\">\n",
       "      <th></th>\n",
       "      <th>comment</th>\n",
       "      <th>level</th>\n",
       "      <th>subreddit</th>\n",
       "    </tr>\n",
       "  </thead>\n",
       "  <tbody>\n",
       "    <tr>\n",
       "      <th>0</th>\n",
       "      <td>I wish it didn't overcrowd my feed</td>\n",
       "      <td>1</td>\n",
       "      <td>/r/SeriousConversation/comments/ayvt9u/looking...</td>\n",
       "    </tr>\n",
       "    <tr>\n",
       "      <th>1</th>\n",
       "      <td>My 33yr old sister maced me(29yr old) last nig...</td>\n",
       "      <td>1</td>\n",
       "      <td>/r/SeriousConversation/comments/b7ysjq/megathr...</td>\n",
       "    </tr>\n",
       "    <tr>\n",
       "      <th>2</th>\n",
       "      <td>I'm concocting an utterly evil prank, now all ...</td>\n",
       "      <td>1</td>\n",
       "      <td>/r/SeriousConversation/comments/b7ysjq/megathr...</td>\n",
       "    </tr>\n",
       "  </tbody>\n",
       "</table>\n",
       "</div>"
      ],
      "text/plain": [
       "                                             comment  level  \\\n",
       "0                 I wish it didn't overcrowd my feed      1   \n",
       "1  My 33yr old sister maced me(29yr old) last nig...      1   \n",
       "2  I'm concocting an utterly evil prank, now all ...      1   \n",
       "\n",
       "                                           subreddit  \n",
       "0  /r/SeriousConversation/comments/ayvt9u/looking...  \n",
       "1  /r/SeriousConversation/comments/b7ysjq/megathr...  \n",
       "2  /r/SeriousConversation/comments/b7ysjq/megathr...  "
      ]
     },
     "execution_count": 47,
     "metadata": {},
     "output_type": "execute_result"
    }
   ],
   "source": [
    "coms_df.head(3)"
   ]
  },
  {
   "cell_type": "code",
   "execution_count": 48,
   "metadata": {},
   "outputs": [
    {
     "data": {
      "text/plain": [
       "/r/CasualConversation/comments/b8509z/man_i_felt_so_cool_yesterday/                          62\n",
       "/r/SeriousConversation/comments/b6s5mq/have_you_discovered_the_meaning_of_life/              42\n",
       "/r/SeriousConversation/comments/a4qand/how_on_earth_do_people_make_friends/                  40\n",
       "/r/SeriousConversation/comments/awnl54/i_feel_we_need_new_nuclear_warbased_films_also_we/    37\n",
       "/r/CasualConversation/comments/b6pjza/tell_me_anything_you_want_to_get_off_your_chest/       36\n",
       "Name: subreddit, dtype: int64"
      ]
     },
     "execution_count": 48,
     "metadata": {},
     "output_type": "execute_result"
    }
   ],
   "source": [
    "# The subreddit column contains the permalink which contains the subreddit name\n",
    "coms_df['subreddit'].value_counts().head()"
   ]
  },
  {
   "cell_type": "code",
   "execution_count": 49,
   "metadata": {},
   "outputs": [
    {
     "data": {
      "text/plain": [
       "1    9596\n",
       "0    7885\n",
       "Name: is_serious, dtype: int64"
      ]
     },
     "execution_count": 49,
     "metadata": {},
     "output_type": "execute_result"
    }
   ],
   "source": [
    "# Map permalink to target column (is_serious)\n",
    "coms_df['is_serious'] = coms_df['subreddit'].map(lambda x: 1 if 'serious' in x.lower() else 0)\n",
    "coms_df['is_serious'].value_counts()"
   ]
  },
  {
   "cell_type": "code",
   "execution_count": 50,
   "metadata": {},
   "outputs": [],
   "source": [
    "# drop subreddit colimn with permalink...no longer needed\n",
    "coms_df.drop(columns=['subreddit'], inplace=True)"
   ]
  },
  {
   "cell_type": "code",
   "execution_count": 51,
   "metadata": {},
   "outputs": [
    {
     "name": "stdout",
     "output_type": "stream",
     "text": [
      "I wish it didn't overcrowd my feed\n",
      "i wish it didn t overcrowd my feed\n"
     ]
    }
   ],
   "source": [
    "# Clean comments column\n",
    "print(coms_df['comment'][0])\n",
    "coms_df['comment'] = coms_df['comment'].apply(clean_text)\n",
    "coms_df['comment'] = coms_df['comment'].map(lambda x: x.strip())\n",
    "print(coms_df['comment'][0])"
   ]
  },
  {
   "cell_type": "code",
   "execution_count": 52,
   "metadata": {},
   "outputs": [
    {
     "data": {
      "text/plain": [
       "comment       0\n",
       "level         0\n",
       "is_serious    0\n",
       "dtype: int64"
      ]
     },
     "execution_count": 52,
     "metadata": {},
     "output_type": "execute_result"
    }
   ],
   "source": [
    "# Check for any nulls\n",
    "coms_df.isnull().sum()"
   ]
  },
  {
   "cell_type": "code",
   "execution_count": 53,
   "metadata": {},
   "outputs": [
    {
     "data": {
      "text/html": [
       "<div>\n",
       "<style scoped>\n",
       "    .dataframe tbody tr th:only-of-type {\n",
       "        vertical-align: middle;\n",
       "    }\n",
       "\n",
       "    .dataframe tbody tr th {\n",
       "        vertical-align: top;\n",
       "    }\n",
       "\n",
       "    .dataframe thead th {\n",
       "        text-align: right;\n",
       "    }\n",
       "</style>\n",
       "<table border=\"1\" class=\"dataframe\">\n",
       "  <thead>\n",
       "    <tr style=\"text-align: right;\">\n",
       "      <th></th>\n",
       "      <th>comment</th>\n",
       "      <th>level</th>\n",
       "      <th>is_serious</th>\n",
       "    </tr>\n",
       "  </thead>\n",
       "  <tbody>\n",
       "  </tbody>\n",
       "</table>\n",
       "</div>"
      ],
      "text/plain": [
       "Empty DataFrame\n",
       "Columns: [comment, level, is_serious]\n",
       "Index: []"
      ]
     },
     "execution_count": 53,
     "metadata": {},
     "output_type": "execute_result"
    }
   ],
   "source": [
    "# Remove comments that are just blank strings\n",
    "coms_df[coms_df['comment'] == ' ']"
   ]
  },
  {
   "cell_type": "code",
   "execution_count": 54,
   "metadata": {},
   "outputs": [
    {
     "data": {
      "text/html": [
       "<div>\n",
       "<style scoped>\n",
       "    .dataframe tbody tr th:only-of-type {\n",
       "        vertical-align: middle;\n",
       "    }\n",
       "\n",
       "    .dataframe tbody tr th {\n",
       "        vertical-align: top;\n",
       "    }\n",
       "\n",
       "    .dataframe thead th {\n",
       "        text-align: right;\n",
       "    }\n",
       "</style>\n",
       "<table border=\"1\" class=\"dataframe\">\n",
       "  <thead>\n",
       "    <tr style=\"text-align: right;\">\n",
       "      <th></th>\n",
       "      <th>comment</th>\n",
       "      <th>level</th>\n",
       "      <th>is_serious</th>\n",
       "    </tr>\n",
       "  </thead>\n",
       "  <tbody>\n",
       "  </tbody>\n",
       "</table>\n",
       "</div>"
      ],
      "text/plain": [
       "Empty DataFrame\n",
       "Columns: [comment, level, is_serious]\n",
       "Index: []"
      ]
     },
     "execution_count": 54,
     "metadata": {},
     "output_type": "execute_result"
    }
   ],
   "source": [
    "coms_df[coms_df['comment'] == '   ']"
   ]
  },
  {
   "cell_type": "code",
   "execution_count": 55,
   "metadata": {},
   "outputs": [],
   "source": [
    "# Drop these rows\n",
    "coms_df.drop(labels=[1200, 3121, 16489, 2416, 11253], inplace=True)"
   ]
  },
  {
   "cell_type": "code",
   "execution_count": 59,
   "metadata": {},
   "outputs": [
    {
     "data": {
      "text/plain": [
       "(17476, 3)"
      ]
     },
     "execution_count": 59,
     "metadata": {},
     "output_type": "execute_result"
    }
   ],
   "source": [
    "coms_df.shape"
   ]
  },
  {
   "cell_type": "code",
   "execution_count": 56,
   "metadata": {},
   "outputs": [],
   "source": [
    "# Save to new csv data folder\n",
    "coms_df.to_csv('../data/comments_clean.csv', index = False)"
   ]
  }
 ],
 "metadata": {
  "kernelspec": {
   "display_name": "Python 3",
   "language": "python",
   "name": "python3"
  },
  "language_info": {
   "codemirror_mode": {
    "name": "ipython",
    "version": 3
   },
   "file_extension": ".py",
   "mimetype": "text/x-python",
   "name": "python",
   "nbconvert_exporter": "python",
   "pygments_lexer": "ipython3",
   "version": "3.6.8"
  }
 },
 "nbformat": 4,
 "nbformat_minor": 2
}
